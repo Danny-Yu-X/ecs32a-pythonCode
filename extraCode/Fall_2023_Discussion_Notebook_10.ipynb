{
  "cells": [
    {
      "cell_type": "markdown",
      "metadata": {
        "id": "NTAVPiF6eqMk"
      },
      "source": [
        "# ECS32A Discussion Notebook 10 Nov 28 - Dec 3\n",
        "\n",
        "During the last week of discussion sections we will review classes.\n",
        "\n",
        " 1. Defining a new data type with a class definition\n",
        " 2. Constructing a new object with the __init__ method\n",
        " 3. Writing class methods\n",
        " 4. Manipulating object properties\n",
        ""
      ]
    },
    {
      "cell_type": "markdown",
      "metadata": {
        "id": "WhIpjvo5eqMs"
      },
      "source": [
        "## A simple Car class\n",
        "\n",
        "Below is a very simple example of a class as a real world object. We will use it as an opportunity to discuss the definition of a class and the creation of objects.\n",
        "\n",
        "The following link shows the code in Python tutor:\n",
        "\n",
        "https://tinyurl.com/ycfq6oev\n",
        "\n",
        "* To create a class, use the keyword ```class```, then we can use the class named ```Car``` to create objects.\n",
        "* All classes have a function called ```__init__()```, which is always executed when the class is being initiated. Use the ```__init__()``` function to assign values to object properties, or other operations that are necessary to do when the object is being created.\n",
        "* Methods in objects are functions that belong to the object.\n",
        "* The ```self``` parameter is a reference to the current instance of the class, and is used to access variables that belongs to the class."
      ]
    },
    {
      "cell_type": "code",
      "execution_count": null,
      "metadata": {
        "id": "whgsN71CeqMt",
        "outputId": "081727eb-01d1-4bb1-fb1a-cea581e06707",
        "scrolled": true
      },
      "outputs": [
        {
          "name": "stdout",
          "output_type": "stream",
          "text": [
            "New car constructed\n",
            "New car constructed\n",
            "\n",
            "Type of car1: <class '__main__.Car'>\n",
            "\n",
            "car1 == car2:   False\n",
            "car1.mileage == car2.mileage:   True\n",
            "\n",
            "Car mileage: 20\n",
            "Car mileage: 30\n",
            "\n",
            "car1 == car2:   False\n",
            "car1.mileage == car2.mileage:   False\n"
          ]
        }
      ],
      "source": [
        "# A car class\n",
        "class Car:\n",
        "\n",
        "    # Construct a new Car object with 0 miles\n",
        "    def __init__(self):\n",
        "        self.mileage = 0            # mileage driven\n",
        "        print(\"New car constructed\")\n",
        "\n",
        "    # Drive a car method\n",
        "    def drive(self, miles):\n",
        "        # Drive the car for 'miles' miles\n",
        "        self.mileage = self.mileage + miles\n",
        "\n",
        "# Create a new Car object and put it in the variable car1\n",
        "\n",
        "# Create a new Car object and put it in the variable car2\n",
        "\n",
        "\n",
        "# Classes are just data types!\n",
        "# What data type is car1?\n",
        "\n",
        "\n",
        "# Are car1 and car2 the same? Are they equal?\n",
        "\n",
        "\n",
        "# Drive car1 20 miles\n",
        "\n",
        "\n",
        "# Drive car2 30 miles\n",
        "\n",
        "\n",
        "# Now are car1 and car2 the same? Are they equal?\n",
        "\n"
      ]
    },
    {
      "cell_type": "code",
      "execution_count": null,
      "metadata": {
        "id": "cpXnNTUstElp"
      },
      "outputs": [],
      "source": [
        "# Test Function\n",
        "a = \"test\"\n",
        "a.strip()\n",
        "car1 = Car()\n",
        "car1.drive()\n",
        "\n"
      ]
    },
    {
      "cell_type": "markdown",
      "metadata": {
        "id": "4SVTDp9KeqMv"
      },
      "source": [
        "## Magic 8 Ball\n",
        "\n",
        "The following class defines a Magic 8 Ball game it is very similar to the class from your homework assignment. It contains a single list datastructure that keeps track of all the possible answers in the game and has methods for accessing the datastructure.\n",
        "\n",
        "* Attributes: the variables that are within each ball object.\n",
        "    * count: Number of plays.\n",
        "    * answers: a list containing the possible answers.\n",
        "    * answer_count: answer counts dictionary\n",
        "\n",
        "\n",
        "* Methods: the functions that are within each ```Magic8Ball``` object.\n",
        "    * ```__init__(self)```: construct and initialize the object.\n",
        "    * ```add_answer(self, ans)```: add an answer to list of answers.\n",
        "    * ```num_ans(self)```: return the number of possible answers.\n",
        "    * ```get_answer_list(self)```: return a nicely sorted list of all the answers.\n",
        "    * ```get_count(self)```: return the number of games played.\n",
        "    * ```play(self)```: play the game"
      ]
    },
    {
      "cell_type": "code",
      "execution_count": null,
      "metadata": {
        "id": "k9P4WQ8neqMv",
        "outputId": "5888d78e-408d-4d57-ba96-725ede775638"
      },
      "outputs": [
        {
          "name": "stdout",
          "output_type": "stream",
          "text": [
            "Number of answers in game: 21\n",
            "Magic-8-Ball\n",
            "Shake. Shake. Shake.\n",
            "\n",
            " Yes – definitely. \n",
            "\n",
            "Press enter to exit.\n",
            "Magic-8-Ball\n",
            "Shake. Shake. Shake.\n",
            "\n",
            " My reply is no. \n",
            "\n",
            "Press enter to exit.\n",
            "Games played: 2\n",
            "Top answers: [(1, 'Yes – definitely.'), (1, 'My reply is no.'), (0, 'You may rely on it.'), (0, 'Yes.'), (0, 'Without a doubt.'), (0, 'Very doubtful.'), (0, 'Signs point to yes.'), (0, 'Reply hazy, try again.'), (0, 'Outlook not so good.'), (0, 'Outlook good.'), (0, 'No.'), (0, 'New answer'), (0, 'My sources say no.'), (0, 'Most likely.'), (0, 'It is decidedly so.'), (0, 'It is certain.'), (0, \"Don't count on it.\"), (0, 'Concentrate and ask again.'), (0, 'Cannot predict now.'), (0, 'Better not tell you now.'), (0, 'Ask again later.'), (0, 'As I see it, yes.')]\n"
          ]
        }
      ],
      "source": [
        "import random\n",
        "\n",
        "class Magic8Ball:\n",
        "    # Constructor method\n",
        "    # The constructor method creates a new magic 8 ball\n",
        "    def __init__(self):\n",
        "        # Number of plays\n",
        "        self.count = 0\n",
        "        # List of potential answers\n",
        "        self.answers = []\n",
        "        # Dictionary of Answer counts\n",
        "        self.answer_count = {}\n",
        "        # Add answers from configuration file\n",
        "        infile = open(\"magic_answers.txt\")\n",
        "        for line in infile:\n",
        "            line = line.strip()\n",
        "            self.add_answer(line)  #Each line of the file is added as a Key to the dictionary and corresponding Value is initialised to 0\n",
        "        infile.close()\n",
        "\n",
        "\n",
        "\n",
        "    #EXERCISE: Adding answers using the add_answer method\n",
        "    # Add a new answer to the Magic-8-Ball\n",
        "    def add_answer(self, ans):\n",
        "        #Adding ans as key to the dictionary answer_count\n",
        "\n",
        "\n",
        "\n",
        "\n",
        "\n",
        "    # Report on the number of possible answers\n",
        "    def num_ans(self):\n",
        "        #Length of the list answers\n",
        "\n",
        "\n",
        "\n",
        "\n",
        "    #EXERCISE: Counting Answers\n",
        "    # Return a nicely sorted list of all the answers\n",
        "    def get_answer_list(self):\n",
        "\n",
        "\n",
        "\n",
        "\n",
        "    #EXERCISE: Counting Plays\n",
        "    # Return the number of games played\n",
        "    def get_count(self):\n",
        "\n",
        "\n",
        "\n",
        "    # Play the game\n",
        "    def play(self):\n",
        "\n",
        "\n",
        "\n",
        "\n",
        "def main():\n",
        "    # Create Magic 8 Ball\n",
        "    ball =  Magic8Ball()      #ball is instance of the class Magic8Ball()\n",
        "\n",
        "    # Print the number of answers\n",
        "    print(\"Number of answers in game:\",ball.num_ans())\n",
        "\n",
        "    # Play the game\n",
        "    ball.play()\n",
        "    ball.play()\n",
        "    ball.add_answer(\"New answer\")\n",
        "    print(\"Games played:\", ball.get_count())\n",
        "    print(\"Top answers:\", ball.get_answer_list())\n",
        "\n",
        "main()"
      ]
    },
    {
      "cell_type": "markdown",
      "metadata": {
        "id": "L0dOuZoheqMx"
      },
      "source": [
        "## Exercise: Adding answers using the add_answer method\n",
        "\n",
        "Additional answers can be added to a Magic 8 Ball object using the add_answer() method. Add the following code to the main() function to add additional answers to the Magic 8 Ball to make it more positive. Print the number of answers and sorted answer list  after that to make sure the change was made.\n",
        "\n",
        "Could all the answers from the file magic_answers.txt loaded in the ball at this point instead of in the ```__init__``` method? Pros or cons?\n"
      ]
    },
    {
      "cell_type": "code",
      "execution_count": null,
      "metadata": {
        "id": "JsTK9c3FtElq"
      },
      "outputs": [],
      "source": [
        "# Make the game more positive\n",
        "    for ans in [\"Yeah!\",\"Affirmative.\",\"I think yes.\",\"I think so.\",\"Yes!\",\"Yes!!\"]:\n",
        "        ball.add_answer(ans)"
      ]
    },
    {
      "cell_type": "markdown",
      "metadata": {
        "id": "GT0jonHQeqMx"
      },
      "source": [
        "## Exercise: Counting Plays\n",
        "\n",
        "As an exercise, extend the program above to count the number of times the game is played. Add an attribute count that keeps track of the count and a method get_count() that returns the number of games played.\n",
        "\n",
        "\n",
        "\n",
        "    def get_count(self):\n",
        "        return self.count\n"
      ]
    },
    {
      "cell_type": "markdown",
      "metadata": {
        "id": "jAco0llWeqMx"
      },
      "source": [
        "## Exercise: Counting Answers\n",
        "\n",
        "As an exercise, add a dictionary that counts the number of times each answer is given. Extend the method get_answer_list() so that it prints a list of answers sorted first by the number of times they have been used. Ties in the sort order should be broken alphabetically.\n"
      ]
    },
    {
      "cell_type": "code",
      "execution_count": null,
      "metadata": {
        "id": "NS2HXZDZtElq"
      },
      "outputs": [],
      "source": [
        "# Return a nicely sorted list of all the answers\n",
        "     def get_answer_list(self):\n",
        ""
      ]
    },
    {
      "cell_type": "markdown",
      "metadata": {
        "id": "EPUHf5nbeqMy"
      },
      "source": [
        "## Exercise: Geometric Coordinates\n",
        "\n",
        "As an exercise, create a class ```Point3D``` that represents a point in three-dimensional geometric coordinates. Add the following methods:\n",
        "\n",
        "   * ```__init__(self)```: construct and initialize the object at the geometric origin (0, 0, 0).\n",
        "   * ```move(self, x, y, z)```: move the point to a new location specified by the coordinates (x, y, z) given in the input.\n",
        "   * ```reset(self)```: reset the point back to the geometric origin (0, 0, 0).\n",
        "   * ```calculate_distance(self, another_point)```: calculate the euclidian distance from this point to another\n",
        "        point passed as a parameter."
      ]
    },
    {
      "cell_type": "code",
      "execution_count": null,
      "metadata": {
        "id": "aVwlOAW1eqMy",
        "outputId": "31352d90-df5b-4796-9955-9dc4d59a0b7f"
      },
      "outputs": [
        {
          "name": "stdout",
          "output_type": "stream",
          "text": [
            "8.246211251235321\n",
            "13.638181696985855\n",
            "0.0\n",
            "8.246211251235321\n"
          ]
        }
      ],
      "source": [
        "import math\n",
        "\n",
        "class Point3D:\n",
        "\n",
        "    def __init__(self):\n",
        "        # Initialize the position of a new point\n",
        "        self.x = 0\n",
        "        self.y = 0\n",
        "        self.z = 0\n",
        "\n",
        "    # Move the point to a new location in the 3D space\n",
        "    def move(self, x, y, z):\n",
        "        \"\"\n",
        "        self.x = x\n",
        "        self.y = y\n",
        "        self.z = z\n",
        "\n",
        "    # Reset the point back to the geometric origin: (0, 0, 0)\n",
        "    def reset(self):\n",
        "        self.move(0, 0, 0)\n",
        "\n",
        "    # Calculate the euclidian distance from this point to another point passed as a parameter\n",
        "    def calculate_distance(self, other_point):\n",
        "\n",
        "\n",
        "# Creating two points\n",
        "                           #Point2 is (0,0,0)\n",
        "\n",
        "\n",
        "point2.move(2, 0, 8)                          #Point2 is (2,0,8)\n",
        "print(point2.calculate_distance(point1))      #Distance between point1 and point2\n",
        "\n",
        "\n",
        "# distance between points\n",
        "\n",
        "point1.move(3, 4, -5)                         #Point1 is (3,4,-5)\n",
        "print(point1.calculate_distance(point2))      #Distance between point1 and point2\n",
        "print(point1.calculate_distance(point1))      #Distance between point1 and point1\n",
        "\n",
        "point1.reset()                                #Point1 is (0,0,0)\n",
        "print(point1.calculate_distance(point2))      #Distance between point1 and point2"
      ]
    },
    {
      "cell_type": "code",
      "execution_count": null,
      "metadata": {
        "id": "lxbZmERleqM0"
      },
      "outputs": [],
      "source": [
        "\n",
        "\n"
      ]
    }
  ],
  "metadata": {
    "colab": {
      "provenance": []
    },
    "kernelspec": {
      "display_name": "Python 3",
      "language": "python",
      "name": "python3"
    },
    "language_info": {
      "codemirror_mode": {
        "name": "ipython",
        "version": 3
      },
      "file_extension": ".py",
      "mimetype": "text/x-python",
      "name": "python",
      "nbconvert_exporter": "python",
      "pygments_lexer": "ipython3",
      "version": "3.6.7"
    }
  },
  "nbformat": 4,
  "nbformat_minor": 0
}