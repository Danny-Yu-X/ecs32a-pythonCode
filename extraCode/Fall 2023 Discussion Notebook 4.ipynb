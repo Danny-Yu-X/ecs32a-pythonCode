{
 "cells": [
  {
   "cell_type": "markdown",
   "metadata": {
    "id": "maIHx18tEceA"
   },
   "source": [
    "## Discussion Notebook 4\n",
    "## October 16  - October 20\n",
    "\n",
    "During the fourth week of discussion sections we will look at formatting printed output and repeated execution with while loops.\n",
    "\n",
    " 1. Formatting floating point values as rounded fixed precision strings.\n",
    "\n",
    " 2. Definite while loops\n",
    "\n",
    " 3. Indefinite while loops\n",
    "\n",
    " 4. Using the break and continue statement in while loops."
   ]
  },
  {
   "cell_type": "markdown",
   "metadata": {
    "id": "0HBnJ0cKEceF"
   },
   "source": [
    "# Formatting floating point values as strings\n",
    "\n",
    "Format is a special kind of function called a <u>method</u>. Methods are called using the \"dot\" syntax, for example:\n",
    "\n",
    "    \"my_string\".format()\n",
    "\n",
    "In ECS 32A, we will mostly use the format method to round floating point numbers. To the left of the dot is the <u>format string</u>, and to the right of the dot is a call to the format function. The argument of the format function is the value to be formatted.\n",
    "\n",
    "In other words, the general syntax is:\n",
    "\n",
    "    \"<format string>\".format(<value to be formatted>)"
   ]
  },
  {
   "cell_type": "code",
   "execution_count": null,
   "metadata": {
    "id": "VMQPaYwWEceG",
    "outputId": "0c21aa74-31c5-408a-cb5e-eaff626d117d"
   },
   "outputs": [
    {
     "data": {
      "text/plain": [
       "\"hello, I'm the format string\""
      ]
     },
     "execution_count": 2,
     "metadata": {},
     "output_type": "execute_result"
    }
   ],
   "source": [
    "# Example: calling format method with no arguments\n",
    "# format does nothing here, because it has no argument, and there is no format specification\n",
    "\"hello, I'm the format string\".format()\n",
    "\n",
    "\n",
    "#how we are going to use format\n",
    "#I paid about 224.113 dollars. It was too expensive for me.\n",
    "\n",
    "#print(\"I paid about {:.2f} dollars. It was too expensive for me.\".format(224.11274))"
   ]
  },
  {
   "cell_type": "markdown",
   "metadata": {
    "id": "--D48IMyEceI"
   },
   "source": [
    "Usually inside the format string, there are curly braces \"{}\", which will define the <u>replacement field</u>. The argument of format() will replace this replacement field, and will follow the rules of the <u>format specification</u> inside.\n",
    "\n",
    "<pre>\"{<format specification>}\".format(<value to be formatted>)</pre>\n",
    "\n",
    "If there is no format specification, the argument replaces the replacement field (the curly braces {}) with no change."
   ]
  },
  {
   "cell_type": "code",
   "execution_count": null,
   "metadata": {
    "id": "ffr0cTg1EceI"
   },
   "outputs": [],
   "source": [
    "# empty replacement field; no formatting\n",
    "print(\"{}\".format(3.14159262))\n",
    "\n",
    "# with a format specification of :.3f\n",
    "print(\"{:.3f}\".format(3.14159262))"
   ]
  },
  {
   "cell_type": "markdown",
   "metadata": {
    "id": "Yb4UXC8uEceJ"
   },
   "source": [
    "The format specification has the following options (and more):\n",
    "\n",
    "<pre>\"{name:alignment width .precision type}\"</pre>\n",
    "\n",
    "For now, we will only learn about the <u>precision</u> and <u>type</u>, and will ignore the rest of the options, by leaving them empty.\n",
    "\n",
    "A type of \"f\" means floating point.\n",
    "\n",
    "If the type is \"f\", then the precision determines how many decimal places to round to. Don't forget the dot . in front of the precision."
   ]
  },
  {
   "cell_type": "code",
   "execution_count": null,
   "metadata": {
    "id": "Lr6JCpTVEceJ"
   },
   "outputs": [],
   "source": [
    "# round floating point value to 2 places\n",
    "\"{:.2f}\".format(3.788)"
   ]
  },
  {
   "cell_type": "markdown",
   "metadata": {
    "id": "GiDzxCsIEceK"
   },
   "source": [
    "The format string can have more than just the replacement field {}"
   ]
  },
  {
   "cell_type": "code",
   "execution_count": null,
   "metadata": {
    "id": "7WLOiaoSEceK"
   },
   "outputs": [],
   "source": [
    "# Format string with dollar amount rounded to 2 decimal places\n",
    "\"I had to pay ${:.2f} for the ticket\".format(99.9999)"
   ]
  },
  {
   "cell_type": "markdown",
   "metadata": {
    "id": "1aMtNqDjEceL"
   },
   "source": [
    "We are allowed to have more than 1 replacement field in the format string."
   ]
  },
  {
   "cell_type": "code",
   "execution_count": null,
   "metadata": {
    "id": "o4L_CDMSEceL"
   },
   "outputs": [],
   "source": [
    "\"{} and {} are my favorite animals\".format(\"dogs\",\"cats\")\n",
    "\n",
    "#same as below:\n",
    "animal1 = \"dogs\"\n",
    "animal2 = \"cats\"\n",
    "print(animal1 + \" and \" + animal2 +\" are my favorite animals\")"
   ]
  },
  {
   "cell_type": "markdown",
   "metadata": {
    "id": "lnbPn7oQEceL"
   },
   "source": [
    "### Exercise: Tip and Tax Calculator\n",
    "\n",
    "In lecture we have showed more than one version of a tip calculator. The one below uses string formatting to show the output it dollars and cents."
   ]
  },
  {
   "cell_type": "code",
   "execution_count": null,
   "metadata": {
    "id": "l9vl8UkBEceL"
   },
   "outputs": [],
   "source": [
    "# Formatted tip calculator\n",
    "food_total = float(input(\"Food total:\"))\n",
    "\n",
    "# get tip percent, format\n",
    "tip_pct = float(input(\"Tip %:\"))\n",
    "tip_pct_str = \"{:.0f}%\".format(tip_pct) # tip as percent\n",
    "\n",
    "# get tip total, format\n",
    "tip = food_total * (tip_pct/100)\n",
    "tip_str = \"${:.2f}\".format(tip) # tip in dollars\n",
    "\n",
    "#print result\n",
    "print(tip_pct_str, \"tip:\", tip_str)"
   ]
  },
  {
   "cell_type": "markdown",
   "metadata": {
    "id": "h14gRM-OEceM"
   },
   "source": [
    "Extend the example program in the space below so that it also asks for the tax rate. The tip and the tax are both percentages of the food total, and the total bill is the sum of all 3.  Here is sample output for how it should work:\n",
    "\n",
    "<pre>Food total:42.39\n",
    "Tip %:18\n",
    "Tax %:8.25\n",
    "18% tip: $7.63\n",
    "8.25% tax: $3.50\n",
    "Total bill: $53.52</pre>\n",
    "\n",
    "Something to be aware of is not to use formatted strings in calculations because the results are rounded. Avoid the temptation to convert them back to floating point values, they should only be used in print statements."
   ]
  },
  {
   "cell_type": "code",
   "execution_count": null,
   "metadata": {
    "id": "WHeoKArJEceM"
   },
   "outputs": [],
   "source": []
  },
  {
   "cell_type": "markdown",
   "metadata": {
    "id": "5SB8C4gmEceM"
   },
   "source": [
    "# While Loops\n",
    "\n",
    "Note: During the course of doing these exercises if you find youself in an infinite loop select interrupt or restart from the Kernel menu."
   ]
  },
  {
   "cell_type": "code",
   "execution_count": null,
   "metadata": {
    "id": "iuFXSlIdEceM"
   },
   "outputs": [],
   "source": [
    "#3 kinds of loops:\n",
    "#infinite --> goes forever. inifinite\n",
    "#definite -->  number of iterations determined before the loop starts\n",
    "#indefinite --> depends on what happens in the loop\n",
    "\n",
    "# testing interrupt command on infinite loop\n",
    "# interrupt command is the square stop button, next to run\n",
    "import time\n",
    "while True:\n",
    "    print(\"I'm an infinite loop\")\n",
    "    time.sleep(0.5)"
   ]
  },
  {
   "cell_type": "markdown",
   "metadata": {
    "id": "1awtieIfEceM"
   },
   "source": [
    "## Indefinite while loops\n",
    "\n",
    "\n",
    "### Exercise: Looping for correct input\n",
    "In the Trivial Pursuit program you answer questions by typing 'a', 'b', or 'c'. Write a while loop that keeps asking the user \"Enter your choice:\" until they answer 'a', 'b', or 'c' and then it prints what they answered. This will be an example of an <u>indefinite loop</u>. To gain experience using the break statement, use True as the condition for the while loop and write it using a break statement. We have provided a simple template to extend.\n",
    "\n",
    "Example execution:\n",
    "\n",
    "    Enter your choice:h\n",
    "    Enter your choice:i\n",
    "    Enter your choice:a\n",
    "    You answered a\n"
   ]
  },
  {
   "cell_type": "code",
   "execution_count": null,
   "metadata": {
    "id": "a1ta0Z5vEceM"
   },
   "outputs": [],
   "source": [
    "# while loop template\n",
    "# only iterates one time\n",
    "while True:\n",
    "    ans = input(\"Enter your choice:\")\n",
    "    break\n",
    "print(\"You answered\", ans)"
   ]
  },
  {
   "cell_type": "code",
   "execution_count": null,
   "metadata": {
    "id": "ez5c5MQVEceM"
   },
   "outputs": [],
   "source": [
    "# while loop\n",
    "# iterates until user enters a b or c\n",
    "while True:\n",
    "    ans = input(\"Enter your choice:\")\n",
    "    if ans == \"a\" or ans == \"b\" or ans == \"c\":\n",
    "        break\n",
    "\n",
    "print(\"You answered\", ans)"
   ]
  },
  {
   "cell_type": "markdown",
   "metadata": {
    "id": "nLUuQKPSEceM"
   },
   "source": [
    "If you have extra time you can also update the program it so that it loops at most 5 times before printing \"I give up!\". Here is an example execution of that program:\n",
    "\n",
    "    Enter your choice:h\n",
    "    Enter your choice:i\n",
    "    Enter your choice:\n",
    "    Enter your choice:\n",
    "    Enter your choice:q\n",
    "    I give up!"
   ]
  },
  {
   "cell_type": "code",
   "execution_count": null,
   "metadata": {
    "id": "PrudbEZOEceN"
   },
   "outputs": [],
   "source": [
    "# while loop template\n",
    "# iterates at most 5 times or\n",
    "# until user enters a b or c\n",
    "\n"
   ]
  },
  {
   "cell_type": "markdown",
   "metadata": {
    "id": "idzgiYMkEceN"
   },
   "source": [
    "## Definite while loops\n",
    "\n",
    "Below is an example of a <u>definite while loop</u>, the multiplication table from lecture. As written it will always loop 10 times."
   ]
  },
  {
   "cell_type": "code",
   "execution_count": null,
   "metadata": {
    "id": "Z1RdrrUOEceN",
    "outputId": "11d6bb0d-2408-4b7b-b94e-7c23ee100e4f"
   },
   "outputs": [
    {
     "name": "stdout",
     "output_type": "stream",
     "text": [
      "Enter an integer:12\n",
      "1 x 12 = 12\n",
      "2 x 12 = 24\n",
      "3 x 12 = 36\n",
      "4 x 12 = 48\n",
      "5 x 12 = 60\n",
      "6 x 12 = 72\n",
      "7 x 12 = 84\n",
      "8 x 12 = 96\n",
      "9 x 12 = 108\n",
      "10 x 12 = 120\n"
     ]
    }
   ],
   "source": [
    "num = int(input(\"Enter an integer:\"))\n",
    "i = 1\n",
    "while i <= 10:\n",
    "    print(i, \"x\", num, \"=\", i*num)\n",
    "    i = i + 1"
   ]
  },
  {
   "cell_type": "markdown",
   "metadata": {
    "id": "Jwc42uDeEceN"
   },
   "source": [
    "Definite while loops help programmers save time, here is the same example without using a loop."
   ]
  },
  {
   "cell_type": "code",
   "execution_count": null,
   "metadata": {
    "id": "_HvfgAs_EceN"
   },
   "outputs": [],
   "source": [
    "num = int(input(\"Enter an integer:\"))\n",
    "i = 1\n",
    "\n",
    "print(i, \"x\", num, \"=\", i*num)\n",
    "i = i + 1\n",
    "print(i, \"x\", num, \"=\", i*num)\n",
    "i = i + 1\n",
    "print(i, \"x\", num, \"=\", i*num)\n",
    "i = i + 1\n",
    "print(i, \"x\", num, \"=\", i*num)\n",
    "i = i + 1\n",
    "print(i, \"x\", num, \"=\", i*num)\n",
    "i = i + 1\n",
    "print(i, \"x\", num, \"=\", i*num)\n",
    "i = i + 1\n",
    "print(i, \"x\", num, \"=\", i*num)\n",
    "i = i + 1\n",
    "print(i, \"x\", num, \"=\", i*num)\n",
    "i = i + 1\n",
    "print(i, \"x\", num, \"=\", i*num)\n",
    "i = i + 1"
   ]
  },
  {
   "cell_type": "markdown",
   "metadata": {
    "id": "DYOOwFWwEceN"
   },
   "source": [
    "### Exercise: Tip Table\n",
    "In two steps you will update the program above so that it outputs a tip table.\n",
    "\n",
    "In the first step change the prompt so that you are asking for the \"Food total:\" as you did for the previous tip calculator. Then change the iteration variable so that it goes from 15 to 20 inside the loop. The output will look like this.\n",
    "\n",
    "    Food total:42.39\n",
    "    15 x 42.39 = 635.85\n",
    "    16 x 42.39 = 678.24\n",
    "    17 x 42.39 = 720.63\n",
    "    18 x 42.39 = 763.02\n",
    "    19 x 42.39 = 805.41\n",
    "    20 x 42.39 = 847.8"
   ]
  },
  {
   "cell_type": "code",
   "execution_count": null,
   "metadata": {
    "id": "67Rac1lMEceN"
   },
   "outputs": [],
   "source": [
    "# calculating tips in the range 15 to 20\n"
   ]
  },
  {
   "cell_type": "markdown",
   "metadata": {
    "id": "plXNPGZDEceN"
   },
   "source": [
    "In the next window, cut and paste your working solution to the problem above. The tips are clearly too big. We need to divide by 100 to account for the fact that the tip is a percentage. Once you get resonable values for the tip, add string format expressions for the percentage food total and tip. Finally, if you change the x and = to of and is you should see the following output:\n",
    "\n",
    "    Food total:42.39\n",
    "    15% of $42.39 is $6.36\n",
    "    16% of $42.39 is $6.78\n",
    "    17% of $42.39 is $7.21\n",
    "    18% of $42.39 is $7.63\n",
    "    19% of $42.39 is $8.05\n",
    "    20% of $42.39 is $8.48"
   ]
  },
  {
   "cell_type": "code",
   "execution_count": null,
   "metadata": {
    "id": "ZeQ8zxlyEceN"
   },
   "outputs": [],
   "source": [
    "# calculating tips in the range 15 to 20 percent\n",
    "# format output\n",
    "\n"
   ]
  },
  {
   "cell_type": "markdown",
   "metadata": {
    "id": "8THXN_EKjGGX"
   },
   "source": [
    "**Nested loop**\n",
    "Print out stars in a certain pattern"
   ]
  },
  {
   "cell_type": "code",
   "execution_count": 1,
   "metadata": {
    "colab": {
     "base_uri": "https://localhost:8080/"
    },
    "id": "jCxhmgo3jP5s",
    "outputId": "5e32d7b1-04b0-48f6-e978-30b73399d8df"
   },
   "outputs": [
    {
     "name": "stdout",
     "output_type": "stream",
     "text": [
      "*\n",
      "**\n",
      "***\n",
      "****\n",
      "*****\n"
     ]
    }
   ],
   "source": [
    "rows = 5\n",
    "# outer loop\n"
   ]
  },
  {
   "cell_type": "markdown",
   "metadata": {
    "id": "aqHsMfGhjbAX"
   },
   "source": [
    "## Exercise\n",
    "<br>\n",
    "A<br>\n",
    "B C<br>\n",
    "D E F<br>\n",
    "G H I J<br>\n",
    "K L M N O<br>"
   ]
  },
  {
   "cell_type": "markdown",
   "metadata": {
    "id": "BkvDMjggjnZl"
   },
   "source": [
    "Write a chunk of nested loop code to have the wanted display.\n",
    "Must convert integer to string to represent these letters."
   ]
  },
  {
   "cell_type": "code",
   "execution_count": null,
   "metadata": {
    "id": "hRtQ3kNijovh"
   },
   "outputs": [],
   "source": [
    "#write here"
   ]
  }
 ],
 "metadata": {
  "colab": {
   "provenance": []
  },
  "kernelspec": {
   "display_name": "Python 3",
   "language": "python",
   "name": "python3"
  },
  "language_info": {
   "codemirror_mode": {
    "name": "ipython",
    "version": 3
   },
   "file_extension": ".py",
   "mimetype": "text/x-python",
   "name": "python",
   "nbconvert_exporter": "python",
   "pygments_lexer": "ipython3",
   "version": "3.7.6"
  }
 },
 "nbformat": 4,
 "nbformat_minor": 1
}
