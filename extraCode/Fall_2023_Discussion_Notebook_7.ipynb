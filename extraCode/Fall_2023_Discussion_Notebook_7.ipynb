{
  "cells": [
    {
      "cell_type": "markdown",
      "metadata": {
        "id": "ICxCAeEsJonC"
      },
      "source": [
        "# ECS32A Discussion Notebook 7 Nov 13 - Nov 17\n",
        "\n",
        "\n",
        "During the seventh week of discussion sections we will look at data files and lists.\n",
        "\n",
        " 1. Reading from CSV and TSV files.\n",
        " 2. Writing to CSV and TSV files.\n",
        " 3. Reading data into a list\n",
        " 4. Sorting lists"
      ]
    },
    {
      "cell_type": "markdown",
      "metadata": {
        "id": "XiYjS8D2JonD"
      },
      "source": []
    },
    {
      "cell_type": "markdown",
      "metadata": {
        "id": "Fpyvv0HqJonD"
      },
      "source": [
        "## Example: Indexing and Slicing a List\n",
        "\n",
        "Below is a program that uses a for loop to create a list of letters from a string. It is a simple example of how we create a list by seeding them and then growing them. After the list is created, examples of indexing and slicing are shown."
      ]
    },
    {
      "cell_type": "code",
      "execution_count": null,
      "metadata": {
        "scrolled": false,
        "id": "yj4tGUFgJonE",
        "outputId": "9880c505-c92f-4188-9622-082a22055e54"
      },
      "outputs": [
        {
          "name": "stdout",
          "output_type": "stream",
          "text": [
            "['a', 'b', 'c', 'd', 'e', 'f', 'g', 'h', 'i', 'j', 'k']\n",
            "a\n",
            "k\n",
            "k\n",
            "['a']\n",
            "['a', 'b', 'c']\n",
            "['i', 'j', 'k']\n",
            "['a', 'b', 'c']\n",
            "['i', 'j', 'k']\n"
          ]
        }
      ],
      "source": [
        "# create list of characters, from a string\n",
        "chars = []\n",
        "for letter in \"abcdefghijk\":\n",
        "    chars.append(letter)\n",
        "print(chars)\n",
        "\n",
        "# slicing\n",
        "print(chars[0]) # first position\n",
        "print(chars[len(chars)-1]) # last position\n",
        "print(chars[-1]) # last position using negative index\n",
        "\n",
        "# slicing\n",
        "print(chars[0:1]) # first character as a list\n",
        "print(chars[0:3]) # first three characters as a list\n",
        "print(chars[len(chars)-3:len(chars)]) # the last three characters\n",
        "print(chars[:3]) # the first three characters\n",
        "print(chars[-3:]) # the last three characters\n"
      ]
    },
    {
      "cell_type": "markdown",
      "metadata": {
        "id": "1zC3RXcUJonE"
      },
      "source": [
        "## Reading and writing to CSV/TSV files"
      ]
    },
    {
      "cell_type": "markdown",
      "metadata": {
        "id": "3EZB1lU0JonF"
      },
      "source": [
        "### Exercise: Writing a CSV file of names\n",
        "\n",
        "We will write a program very similar to the one used in lecture that writes a list of names to a CSV file. The program first opens a file for writing called \"Names.csv\". The program then enters an indefinite loop asking the user for full names to write to the file (First Last). After each name is entered, the program will print the name to the screen and write the name to the file. The format of each line will be \"Last,First\". When the user only presses the enter key at the prompt, the indefinite loop exits and the file is closed.\n",
        "\n",
        "Consider also how you would change the output for a TSV file."
      ]
    },
    {
      "cell_type": "code",
      "execution_count": null,
      "metadata": {
        "id": "3lPvFaLxJonF",
        "outputId": "406c43ae-8c00-4904-e05e-9f4c765d0b11"
      },
      "outputs": [
        {
          "data": {
            "text/plain": [
              "11"
            ]
          },
          "execution_count": 3,
          "metadata": {},
          "output_type": "execute_result"
        }
      ],
      "source": [
        "outfile = open(\"Names.csv\",\"w\")\n",
        "\n",
        "# adding a header to our file\n",
        "outfile.write(\"Last,First\\n\")\n",
        "\n",
        "# loop here, to take user input\n",
        "# input of the form First Last\n",
        "# write into file as Last,First\n",
        "\n",
        "\n",
        "# don't forget to close your files\n",
        "\n",
        "\n",
        "#Think about: how do we change this to be tab separated file (.tsv)?"
      ]
    },
    {
      "cell_type": "markdown",
      "metadata": {
        "id": "hpAAM1TyJonF"
      },
      "source": [
        "### Exercise: Reading Names.csv\n",
        "\n",
        "This example program reads Names.csv. It ignores the first line of the file which it assumes is a header. For each subsequent line it extracts the name and writes it as First Last, instead of Last,First as it is stored in the file. The file is closed after all lines are read."
      ]
    },
    {
      "cell_type": "code",
      "execution_count": null,
      "metadata": {
        "scrolled": true,
        "id": "UcI5WgYnJonF"
      },
      "outputs": [],
      "source": [
        "infile = open(\"Names.csv\",\"r\")\n",
        "infile.readline() # ignore the first line of the file\n",
        "\n",
        "# use a for loop to read the lines from the file\n",
        "# convert names from Last,First back to First Last\n"
      ]
    },
    {
      "cell_type": "code",
      "execution_count": null,
      "metadata": {
        "id": "u5s0Kb13JonF"
      },
      "outputs": [],
      "source": [
        "infile = open(\"Names.csv\",\"r\")\n",
        "infile.readline() # ignore the first line of the file\n",
        "\n",
        "#This shows the alternate way of getting last and first from the file"
      ]
    },
    {
      "cell_type": "markdown",
      "metadata": {
        "id": "wENaBre8JonF"
      },
      "source": [
        "### Exercise: Sorting Names.csv\n",
        "\n",
        "This example program reads Names.csv into a list of strings so that the output can be sorted as the names would appear in a telephone directory, in alphabetically increasing order. After the list is sorted we print each line in the list.\n",
        "\n",
        "Consider how  this be would changed to sort names in alphabetically decreasing order. Also consider the best approaches to sorting the list: the sort method or the sorted function."
      ]
    },
    {
      "cell_type": "code",
      "execution_count": null,
      "metadata": {
        "scrolled": true,
        "id": "2XRaILpOJonF"
      },
      "outputs": [],
      "source": [
        "infile = open(\"Names.csv\",\"r\")\n",
        "\n",
        "#How could we make this sort with reverse order?"
      ]
    },
    {
      "cell_type": "markdown",
      "metadata": {
        "id": "PkIUd0uqJonF"
      },
      "source": [
        "### Exercise: Reading SacramentoTemps.csv\n",
        "\n",
        "In this exercise you will modify the program starbucks_menu.py to read the file SacramentoTemps.csv and print out the years with the minimum and maximum temperatures.\n",
        "The starbucks_menu.py program is given below."
      ]
    },
    {
      "cell_type": "code",
      "execution_count": null,
      "metadata": {
        "id": "AMOzM-5nJonF",
        "outputId": "ce21e02a-8909-4537-8c69-754e3d5ac0de"
      },
      "outputs": [
        {
          "ename": "FileNotFoundError",
          "evalue": "[Errno 2] No such file or directory: 'Starbucks.txt'",
          "output_type": "error",
          "traceback": [
            "\u001b[0;31m---------------------------------------------------------------------------\u001b[0m",
            "\u001b[0;31mFileNotFoundError\u001b[0m                         Traceback (most recent call last)",
            "\u001b[0;32m<ipython-input-6-4f010fcac51f>\u001b[0m in \u001b[0;36m<module>\u001b[0;34m\u001b[0m\n\u001b[1;32m     11\u001b[0m \u001b[0;31m# They are separated by the tab character\u001b[0m\u001b[0;34m\u001b[0m\u001b[0;34m\u001b[0m\u001b[0;34m\u001b[0m\u001b[0m\n\u001b[1;32m     12\u001b[0m \u001b[0mfilename\u001b[0m \u001b[0;34m=\u001b[0m \u001b[0;34m\"Starbucks.txt\"\u001b[0m\u001b[0;34m\u001b[0m\u001b[0;34m\u001b[0m\u001b[0m\n\u001b[0;32m---> 13\u001b[0;31m \u001b[0minfile\u001b[0m \u001b[0;34m=\u001b[0m \u001b[0mopen\u001b[0m\u001b[0;34m(\u001b[0m\u001b[0mfilename\u001b[0m\u001b[0;34m,\u001b[0m \u001b[0;34m\"r\"\u001b[0m\u001b[0;34m)\u001b[0m\u001b[0;34m\u001b[0m\u001b[0;34m\u001b[0m\u001b[0m\n\u001b[0m\u001b[1;32m     14\u001b[0m \u001b[0;34m\u001b[0m\u001b[0m\n\u001b[1;32m     15\u001b[0m \u001b[0;31m# ignore the first line\u001b[0m\u001b[0;34m\u001b[0m\u001b[0;34m\u001b[0m\u001b[0;34m\u001b[0m\u001b[0m\n",
            "\u001b[0;31mFileNotFoundError\u001b[0m: [Errno 2] No such file or directory: 'Starbucks.txt'"
          ]
        }
      ],
      "source": [
        "# starbucks_menu.py\n",
        "# Kristian Stevens\n",
        "#\n",
        "# Determine the item with the min carbs and max calories from the\n",
        "# Starbucks menu in TSV format\n",
        "\n",
        "\n",
        "# Open the menu\n",
        "# There are three values on each line of the menu\n",
        "# item, calories, and carbohydrates\n",
        "# They are separated by the tab character\n",
        "filename = \"Starbucks.txt\"\n",
        "infile = open(filename, \"r\")\n",
        "\n",
        "# ignore the first line\n",
        "# which describes the columns\n",
        "infile.readline()\n",
        "print(type(running_max))\n",
        "# Loop obtaining lines from the file\n",
        "for line in infile:\n",
        "\n",
        "    # strip the whitespace\n",
        "    line = line.strip()\n",
        "\n",
        "    # split into item, cals, and arbs\n",
        "    item, cals, carbs = line.split(\"\\t\")\n",
        "\n",
        "    # convert cals and carbs to integers\n",
        "    cals = int(cals)\n",
        "    carbs = int(carbs)\n",
        "\n",
        "    # update running max and the item corresponding to the max\n",
        "    if running_max == None or cals > running_max:\n",
        "\n",
        "        running_max = cals\n",
        "        max_item = item\n",
        "\n",
        "    # update running min and the item corresponding to the min\n",
        "    # simplified using single condition with a guardian pattern\n",
        "    if running_min == None or carbs < running_min:\n",
        "        running_min = carbs\n",
        "        min_item = item\n",
        "\n",
        "# Output items\n",
        "print(\"Minimum carbs:\", min_item, running_min)\n",
        "print(\"Maximum calories:\", max_item, running_max)\n",
        "infile.close()"
      ]
    },
    {
      "cell_type": "code",
      "execution_count": null,
      "metadata": {
        "id": "2WTuCk-oJonF"
      },
      "outputs": [],
      "source": []
    }
  ],
  "metadata": {
    "kernelspec": {
      "display_name": "Python 3",
      "language": "python",
      "name": "python3"
    },
    "language_info": {
      "codemirror_mode": {
        "name": "ipython",
        "version": 3
      },
      "file_extension": ".py",
      "mimetype": "text/x-python",
      "name": "python",
      "nbconvert_exporter": "python",
      "pygments_lexer": "ipython3",
      "version": "3.6.7"
    },
    "colab": {
      "provenance": []
    }
  },
  "nbformat": 4,
  "nbformat_minor": 0
}