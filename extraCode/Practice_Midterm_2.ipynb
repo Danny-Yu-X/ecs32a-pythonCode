{
  "nbformat": 4,
  "nbformat_minor": 0,
  "metadata": {
    "colab": {
      "provenance": []
    },
    "kernelspec": {
      "name": "python3",
      "display_name": "Python 3"
    },
    "language_info": {
      "name": "python"
    }
  },
  "cells": [
    {
      "cell_type": "code",
      "execution_count": null,
      "metadata": {
        "id": "8nJDxc4LKFn0"
      },
      "outputs": [],
      "source": [
        "# Q2: Consider the following program. How many times is Welcome printed?\n",
        "for i in range(100):\n",
        "   for j in range(1,10):\n",
        "       print('Welcome')"
      ]
    },
    {
      "cell_type": "code",
      "source": [
        "# Q3: Translate the following while loop into a for loop. It prints the even numbers from 2 through 100.\n",
        "i = 2\n",
        "while i <= 100:\n",
        "    print(i)\n",
        "    i = i + 2"
      ],
      "metadata": {
        "id": "uUI-7WQiKavZ"
      },
      "execution_count": null,
      "outputs": []
    },
    {
      "cell_type": "code",
      "source": [
        "# Q4: What Python data type is returned by the split string method? Select the single best answer.\n",
        "text = \"hello there\"\n",
        "a,b = text.split()\n",
        "print(a, b)"
      ],
      "metadata": {
        "id": "sxfUHLOJKbv1"
      },
      "execution_count": null,
      "outputs": []
    },
    {
      "cell_type": "code",
      "source": [
        "# Q5: Consider the following incomplete program, which should print the pair of initials of a couple.\n",
        "# eg. For the inputs Kai and Zoe the program should print K&Z.\n",
        "\n",
        "first = input(\"First:\")\n",
        "second = input(\"Second:\")\n",
        "initials = # fill here\n",
        "print(initials)"
      ],
      "metadata": {
        "id": "1EA3kWIaKeNX"
      },
      "execution_count": null,
      "outputs": []
    },
    {
      "cell_type": "code",
      "source": [
        "# Q6: Complete the following program with a single statement calling a string method so that the program prints:\n",
        "# Hour: 23\n",
        "# Minute: 59\n",
        "# The completed program should work with any time string formatted in 24 hour format. Specifically 00:00 through 23:59.\n",
        "\n",
        "time = \"23:59\""
      ],
      "metadata": {
        "id": "amUDvFWHKjIm"
      },
      "execution_count": null,
      "outputs": []
    },
    {
      "cell_type": "code",
      "source": [
        "#Q7: Consider the following incomplete program which should correctly format the 9 consecutive digits\n",
        "# of a zip+4 code in the form #####-####.\n",
        "# eg. If the user enters 123456789 the program should print: 12345-6789\n",
        "\n",
        "zip = input(\"Enter 9 digit number:\")"
      ],
      "metadata": {
        "id": "J4rpSGo_Krii"
      },
      "execution_count": null,
      "outputs": []
    },
    {
      "cell_type": "code",
      "source": [
        "#Q8: Write a Python statement that removes the leading \"$\" from the string in total\n",
        "# so that it can be converted to a floating point value. For example if the user entered $100.00,\n",
        "# the variable total would contain 100.00 after being updated.\n",
        "\n",
        "total = \"$100.00\""
      ],
      "metadata": {
        "id": "sAv9ulU7Kt_N"
      },
      "execution_count": null,
      "outputs": []
    },
    {
      "cell_type": "code",
      "source": [
        "#Q9: What Python statement could fill in the blank so the retirement calculator never crashes.\n",
        "\n",
        "while True:\n",
        "    try:\n",
        "        age = int(input(\"Enter your age:\"))\n",
        "    except:\n",
        "        # blank\n",
        "    break\n",
        "print(\"You’ll retire in\", 65 - age, \"years\")"
      ],
      "metadata": {
        "id": "Snd0d2r9Kw_u"
      },
      "execution_count": null,
      "outputs": []
    },
    {
      "cell_type": "code",
      "source": [
        "#Q10: Fill in the two blanks with a for loop that prints all key value pairs in the dictionary counts:\n",
        "\n",
        "counts = {\"well\":3, \"Well\":1, \"oven\":1, \"Alice\":60}\n",
        "for key in counts :\n",
        "    print()"
      ],
      "metadata": {
        "id": "Xj9ivVABLIzE"
      },
      "execution_count": null,
      "outputs": []
    },
    {
      "cell_type": "code",
      "source": [
        "#Q11: Complete the following program so that it counts the number of  times each word in the words list appears.\n",
        "# It should print the count of 2 for the word \"well\".\n",
        "\n",
        "words = [\"well\", \"well\", \"Well\", \"oven\", \"\"]\n",
        "D = {} # take out everything after this"
      ],
      "metadata": {
        "id": "_JXUUvQQLi2r"
      },
      "execution_count": null,
      "outputs": []
    },
    {
      "cell_type": "code",
      "source": [
        "#Q12: The program fragment below writes a numbered list of sentences out to the file resolution.txt.\n",
        "# eg.\n",
        "# 4 I will not waste time.\n",
        "# 5 I will not waste time.\n",
        "# 6 I will not waste time.\n",
        "\n",
        "outfile = open(\"resolution.txt\",\"w\")\n",
        "sentence = \" I will not waste time.\""
      ],
      "metadata": {
        "id": "lz2fuI_pLx84"
      },
      "execution_count": null,
      "outputs": []
    },
    {
      "cell_type": "code",
      "source": [
        "#Q13: Consider the following program that reads a CSV input file converts it to TSV format by changing the commas\n",
        "# to tabs and writing the result to a file. Fill in the blanks so that the program correctly reads the input\n",
        "# and writes the updated output to a file.\n",
        "\n",
        "filename = input(\"CSV file:\")\n",
        "infile = open(filename)\n",
        "filename = input(\"Output TSV file:\")\n",
        "outfile = open(filename)\n",
        "\n",
        "# insert code here\n",
        "\n",
        "outfile.close()"
      ],
      "metadata": {
        "id": "RNNbHha3MKC1"
      },
      "execution_count": null,
      "outputs": []
    },
    {
      "cell_type": "code",
      "source": [
        "# Q14: it prints [1,2,3,4,5] Consider the following program.\n",
        "\n",
        "L = []\n",
        "\n",
        "# insert code here\n",
        "\n",
        "print(L)"
      ],
      "metadata": {
        "id": "PnqgS__XMSSV"
      },
      "execution_count": null,
      "outputs": []
    },
    {
      "cell_type": "code",
      "source": [
        "#Q15: Consider the following short function that determines if two names match using a case insensitive comparison.\n",
        "# For example, when the function is called with 'Alice' and 'alice' in either order it should return True.\n",
        "# When it is called with 'Alice' and 'Alice!' in either order, it should return False.\n",
        "\n"
      ],
      "metadata": {
        "id": "7_we20PmMa6V"
      },
      "execution_count": null,
      "outputs": []
    },
    {
      "cell_type": "code",
      "source": [
        "#Q16: Consider the program below that uses a function named calc_price which calculates the price of a rectangular\n",
        "# window given the arguments length and width. The function should return a string formatted as dollars and cents.\n",
        "# The price of the window is $0.23 per square inch.\n",
        "# Your estimate is $161.00\n",
        "\n",
        "\n",
        "def main():\n",
        "    # Calculate the price of a window given length and width\n",
        "    length = 12.5\n",
        "    width = 56\n",
        "    price = calc_price(length, width)\n",
        "    print(\"Your estimate is:\",price)\n",
        "\n",
        "def calc_price(length, width):\n",
        "    # insert code here\n",
        "\n",
        "main()"
      ],
      "metadata": {
        "id": "mds0q8LmMWaU"
      },
      "execution_count": null,
      "outputs": []
    }
  ]
}