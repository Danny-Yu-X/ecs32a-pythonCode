{
 "cells": [
  {
   "cell_type": "markdown",
   "metadata": {
    "id": "u5VywfD5KhU0"
   },
   "source": [
    "## Discussion Notebook 6\n",
    "## October 30 - November 3\n",
    "\n",
    "\n",
    "During the sixth week of discussion sections we will look at strings and files.\n",
    "\n",
    " 1. String indexing and slicing.\n",
    "\n",
    " 2. Definite for loops, and how they can be used on strings.\n",
    " \n",
    " 3. Using string methods.\n",
    " \n",
    " 4. Basic file reading."
   ]
  },
  {
   "cell_type": "markdown",
   "metadata": {
    "id": "NrVBXcN2KhVG"
   },
   "source": [
    "## for loop introduction\n",
    "\n",
    "for loops are used to iterate over a container of values.\n",
    "\n",
    "Syntax:\n",
    "\n",
    "    for <iteration variable> in <container>:\n",
    "\n",
    "Every time the loop runs, it assigns the next value in the container to the iteration variable.\n",
    "\n",
    "The for loop will end when the iteration variable has been sequentially assigned every value in the container."
   ]
  },
  {
   "cell_type": "code",
   "execution_count": null,
   "metadata": {
    "id": "PngzC79CKhVH",
    "outputId": "3b9cbf06-3292-4450-d8e2-b5997e7bf59f"
   },
   "outputs": [],
   "source": [
    "# string example\n",
    "for var in \"hello\":\n",
    "    print(var)\n",
    "    \n",
    "# don't have to use the iteration variable, loop will run regardless.\n",
    "# also, common convention is to use i as the iteration variable.\n",
    "for i in \"456\":\n",
    "    print(i,\": what's up\")\n"
   ]
  },
  {
   "cell_type": "code",
   "execution_count": null,
   "metadata": {
    "id": "R6YwRCaTKhVI",
    "outputId": "e8192e41-4405-4d61-d98b-09d854ecdf62",
    "scrolled": true
   },
   "outputs": [],
   "source": [
    "#lists\n",
    "for i in ['rock','paper','scissors']:\n",
    "    print(i)"
   ]
  },
  {
   "cell_type": "code",
   "execution_count": null,
   "metadata": {
    "id": "ID2s0-h-KhVI",
    "outputId": "db47d4ff-0ca7-49d3-9f85-0d7821010e4f"
   },
   "outputs": [],
   "source": [
    "# using the range function is a good way to iterate over sequential numbers\n",
    "num = int(input(\"Enter a number for the times table:\"))\n",
    "for j in range(1,10):\n",
    "    print(\"{} x {} is {}\".format(num, j, j*num))"
   ]
  },
  {
   "cell_type": "markdown",
   "metadata": {
    "id": "kjSlh-4CKhVJ"
   },
   "source": [
    "##  Strings: \n",
    "\n",
    "### Looping over the characters in a string\n",
    "\n",
    "There are many ways to loop over the characters in a string. Since looping over a string is always a definite loop, you will probably find the for loop syntax the simplest. The following program loops over a string and prints out the index and the corresponding letter for each character in a string. We are using the style of writing a for loop where the iterator variable is assigned the valid indices of the string in order. "
   ]
  },
  {
   "cell_type": "code",
   "execution_count": null,
   "metadata": {},
   "outputs": [],
   "source": [
    "s = input(\"Enter some text:\")\n",
    "length = len(s)                 #len() function is used to calculate the lenght of string s\n",
    "print(s,\"has length\",length)\n",
    "\n",
    "# for apple, length is 5, range(5) is 0-4.  Note that indexing starts from 0.\n",
    "for i in range(length):\n",
    "    print(i, s[i])"
   ]
  },
  {
   "cell_type": "markdown",
   "metadata": {
    "id": "qA59gSY9KhVK"
   },
   "source": [
    "## String  Indexing \n",
    "In the example above, the index operator is used to get the character in the string at index i. Use square brackets [ ] when indexing a container. "
   ]
  },
  {
   "cell_type": "code",
   "execution_count": null,
   "metadata": {
    "id": "jYBg-8jxBuG-",
    "outputId": "2c815f4a-0cab-4f7c-9b42-cfa61d442e54"
   },
   "outputs": [],
   "source": [
    "example_string = \"apple\"\n",
    "print(example_string[2])"
   ]
  },
  {
   "cell_type": "markdown",
   "metadata": {
    "id": "_Otb2MKcKhVK"
   },
   "source": [
    "Negative indexing is also possible in Python. Negative indexing counts from the last character of the string, which is at index -1.\n",
    "\n",
    "For example, if s = \"apple\", 4 is the last index, so s[4] is 'e'. Then, s[-1] is also 'e'."
   ]
  },
  {
   "cell_type": "code",
   "execution_count": null,
   "metadata": {
    "id": "nGfonpbIKhVL"
   },
   "outputs": [],
   "source": [
    "# using negative indexing\n",
    "s = \"apple\"\n",
    "print(s[4])\n",
    "print(s[-1])  #-1 refers to the last character of the string"
   ]
  },
  {
   "cell_type": "markdown",
   "metadata": {
    "id": "QmDQfGeQKhVL"
   },
   "source": [
    "You can also get the last index of a string s using len(s) - 1. You can imagine using negative indexing as a shortcut for this.\n",
    "\n",
    "Another way to say this is that for a string s:\n",
    "\n",
    "    s[len(s) - 1] == s[-1]\n",
    "\n",
    "In the space below we will extend the previous example to also report the corresponding negative index for each character in the sequence. "
   ]
  },
  {
   "cell_type": "code",
   "execution_count": null,
   "metadata": {
    "colab": {
     "base_uri": "https://localhost:8080/"
    },
    "executionInfo": {
     "elapsed": 7344,
     "status": "ok",
     "timestamp": 1666823552439,
     "user": {
      "displayName": "Jinyue Song",
      "userId": "01273139709014091206"
     },
     "user_tz": 420
    },
    "id": "vVa05A47KhVM",
    "outputId": "b2f75141-c5ff-464c-8b2f-0778fb8abe7b"
   },
   "outputs": [],
   "source": [
    "s = input(\"Enter some text:\")\n",
    "\n",
    "print(\"---String indexing---\")\n",
    "for i in range(len(s)):\n",
    "    print(i, s[i])\n",
    "\n",
    "print()\n",
    "\n",
    "print(\"---Using negative index---\")\n",
    "#using negative index\n",
    "for n in range(len(s)):\n",
    "    negative_index = -1*len(s) + n\n",
    "    print(n, s[negative_index], \"    negative index number:\", negative_index)"
   ]
  },
  {
   "cell_type": "markdown",
   "metadata": {
    "id": "qqlDbsjBKhVM"
   },
   "source": [
    "## String Slicing\n"
   ]
  },
  {
   "cell_type": "markdown",
   "metadata": {
    "id": "jUC0eqdIKhVM"
   },
   "source": [
    "It is possible to use the index operator to obtain a range of characters. The syntax is\n",
    "\n",
    "```text\n",
    "s[start:stop]\n",
    "```\n",
    "Where start is the first index of the substring and stop is one past the last index. Remember indexing begins at 0, and stop is not included.\n",
    "You can use negative indexing with this syntax too. You can also use default values. The default value for start is 0, and default stop value is the length of the string."
   ]
  },
  {
   "cell_type": "code",
   "execution_count": null,
   "metadata": {
    "id": "pxVMJPyLBuHA",
    "outputId": "3e1d3b97-3644-4283-fbbd-c66b715ea982"
   },
   "outputs": [],
   "source": [
    "# Slicing example 1\n",
    "s = \"lemon\"\n",
    "print(s[1:3])\n",
    "print(s[:2])\n",
    "print(s[3:])\n",
    "print(s[-1])\n",
    "print(s[-3])"
   ]
  },
  {
   "cell_type": "markdown",
   "metadata": {},
   "source": [
    "The program below asks for the start and stop of a substring to print. Consider how you would implement default values."
   ]
  },
  {
   "cell_type": "code",
   "execution_count": null,
   "metadata": {
    "id": "8XsCPrQfKhVM"
   },
   "outputs": [],
   "source": [
    "# Slicing example 2\n",
    "s = input(\"Enter some text:\")\n",
    "first = int(input(\"Enter first index:\"))\n",
    "last = int(input(\"Enter last index:\"))\n",
    "print(\"Substring: \", s[first:last+1])         #forms a substring starting from \"first\" index until \"last\""
   ]
  },
  {
   "cell_type": "markdown",
   "metadata": {
    "id": "f6ybhQqYKhVN"
   },
   "source": [
    "### Using String Methods\n",
    "\n",
    "String methods do not change the strings they are called on. They may create new modified strings. The following program needs to be changed to account for this behavior."
   ]
  },
  {
   "cell_type": "code",
   "execution_count": null,
   "metadata": {
    "id": "Oidc2hiCBuHB",
    "outputId": "c33c58ff-6f1a-41a3-ea08-84d82e530bd4",
    "scrolled": true
   },
   "outputs": [],
   "source": [
    "word = \"Mountain\"\n",
    "print(word.upper())  #makes word into upper letters\n",
    "print(word) #but does not change word itself (String methods do not change the strings they are called on)"
   ]
  },
  {
   "cell_type": "code",
   "execution_count": null,
   "metadata": {
    "id": "3l_uawPwKhVN",
    "outputId": "b58a2b21-8b47-4192-ddf1-4fe419d9a9a3"
   },
   "outputs": [],
   "source": [
    "word = input(\"Enter a word: \")\n",
    "word1 = word.upper()\n",
    "print(\"Upper:\",word1)           #Upper case for entire word\n",
    "word2 = word.lower()\n",
    "print(\"Lower:\",word2)           #Lower case for entire word\n",
    "word3 = word.capitalize()\n",
    "print(\"Capitalized:\",word3)     #Capitalizes the word i.e. uppercase only for first letter of the word"
   ]
  },
  {
   "cell_type": "markdown",
   "metadata": {
    "id": "zoVJBpAkKhVN"
   },
   "source": [
    "### Exercise: Implement Capitalize Using String Slicing\n",
    "Replace the call to capitalize in the following program, so that the output is the same, using upper(), lower(), and string slicing instead."
   ]
  },
  {
   "cell_type": "code",
   "execution_count": null,
   "metadata": {
    "colab": {
     "base_uri": "https://localhost:8080/"
    },
    "executionInfo": {
     "elapsed": 6367,
     "status": "ok",
     "timestamp": 1666825337021,
     "user": {
      "displayName": "Jinyue Song",
      "userId": "01273139709014091206"
     },
     "user_tz": 420
    },
    "id": "VIWWoaDOKhVN",
    "outputId": "d00c1e73-d046-4806-e6fa-0b72d9046ba5"
   },
   "outputs": [],
   "source": [
    "word = input(\"Enter a word: \")\n",
    "word = word.capitalize() \n",
    "print(\"Capitalized:\", word)"
   ]
  },
  {
   "cell_type": "code",
   "execution_count": null,
   "metadata": {
    "colab": {
     "base_uri": "https://localhost:8080/"
    },
    "executionInfo": {
     "elapsed": 4043,
     "status": "ok",
     "timestamp": 1666825354942,
     "user": {
      "displayName": "Jinyue Song",
      "userId": "01273139709014091206"
     },
     "user_tz": 420
    },
    "id": "UAAyS52aBuHC",
    "outputId": "2995c26b-086c-4b19-d5d0-d3c16648239c"
   },
   "outputs": [],
   "source": [
    "#do the same as above, but using upper(), lower(), and string slicing instead.\n"
   ]
  },
  {
   "cell_type": "markdown",
   "metadata": {
    "id": "aJi477T7Z7ig"
   },
   "source": [
    "## Validating a string"
   ]
  },
  {
   "cell_type": "code",
   "execution_count": null,
   "metadata": {
    "id": "J5R5eIt2BuHD",
    "outputId": "32882fc9-1b16-4c69-e9be-9a2707d0afbb"
   },
   "outputs": [],
   "source": [
    "#.isdigit() checks if a string is digit or not\n",
    "print(\"3\".isdigit())\n",
    "print(\"a\".isdigit())"
   ]
  },
  {
   "cell_type": "markdown",
   "metadata": {
    "id": "5RtJnPthBuHC"
   },
   "source": [
    "### Exercise: Validating a String\n",
    "In the United States, phone numbers consist of an area code, exchange, and line number which are commonly specified in the form ### ### ####. We can ensure a string contains a correctly formatted phone number with 12 characters."
   ]
  },
  {
   "cell_type": "code",
   "execution_count": null,
   "metadata": {
    "colab": {
     "base_uri": "https://localhost:8080/"
    },
    "executionInfo": {
     "elapsed": 9501,
     "status": "ok",
     "timestamp": 1666825483551,
     "user": {
      "displayName": "Jinyue Song",
      "userId": "01273139709014091206"
     },
     "user_tz": 420
    },
    "id": "571-UP55BuHD",
    "outputId": "ad7096f5-8cb8-4a76-c395-5db116aa039a"
   },
   "outputs": [],
   "source": [
    "#Get the phone number input from the user\n",
    "phone_number = input(\"Please enter your phone number: \")\n",
    "\n",
    "#The variable to keep track of if the number is valid or not.  \n",
    "#Turn it into False as soon as we get to know that the number is not valid.\n",
    "valid = True\n",
    "\n",
    "#First, check if the number of digits are 12\n",
    "\n",
    "#Then, check each characters one by one\n",
    "# Hint: may use while loop\n",
    "while valid and i < 12:\n",
    "    #if index 3 (4th character) is not a space, then the phone number is invalid\n",
    "    #if index 7 (8th character) is not a space, then the phone number is invalid\n",
    "    #check if all other parts are digits or not. Invalid if the character is not a digit.\n",
    "   \n",
    "        \n",
    "#print(valid)\n",
    "if valid:\n",
    "    print(\"The input is a valid phone number\")\n",
    "else:\n",
    "    print(\"The input is not a valid phone number\")"
   ]
  },
  {
   "cell_type": "markdown",
   "metadata": {
    "id": "8RtJDOaVBuHD"
   },
   "source": [
    "### Exercise: String Operations\n",
    "Write a program that operates the string as follows: <br>\n",
    "If the first character of a word is a vowel, put the first character in the end of the word and concatinate \"ww\" in the end. <br>\n",
    "If the first character of a word is a consonant, simply concatinate \"xx\" in the end. <br>\n",
    "Print the word in the end. (All the characters in lower case)\n",
    "\n",
    "eg: <br>\n",
    "apple --> ppleaww <br>\n",
    "berry --> berryxx"
   ]
  },
  {
   "cell_type": "code",
   "execution_count": null,
   "metadata": {
    "colab": {
     "base_uri": "https://localhost:8080/"
    },
    "executionInfo": {
     "elapsed": 2762,
     "status": "ok",
     "timestamp": 1666825848435,
     "user": {
      "displayName": "Jinyue Song",
      "userId": "01273139709014091206"
     },
     "user_tz": 420
    },
    "id": "Lr0bgEqlBuHD",
    "outputId": "a7384dcb-afad-4498-9e87-0e32873fe12c"
   },
   "outputs": [],
   "source": [
    "#get a word from user\n",
    "word = input(\"Please enter a word: \")\n",
    "\n",
    "#change the whole word into lower case\n",
    "\n",
    "#determine if the first character is a consonant or vowel\n"
   ]
  },
  {
   "cell_type": "markdown",
   "metadata": {
    "id": "fVwwn4R0KhVO"
   },
   "source": [
    "## Reading files"
   ]
  },
  {
   "cell_type": "markdown",
   "metadata": {
    "id": "D5FwPSoiKhVO"
   },
   "source": [
    "### Reading names in a file\n",
    "\n",
    "This program reads the list of names in \"names.txt\". The program opens the file for reading. The program then uses a for loop to read each name from the file and print it to the screen. After all lines are read from the file it is closed. "
   ]
  },
  {
   "cell_type": "code",
   "execution_count": null,
   "metadata": {
    "colab": {
     "base_uri": "https://localhost:8080/",
     "height": 236
    },
    "executionInfo": {
     "elapsed": 161,
     "status": "error",
     "timestamp": 1666826155684,
     "user": {
      "displayName": "Jinyue Song",
      "userId": "01273139709014091206"
     },
     "user_tz": 420
    },
    "id": "fXXL7Vf-KhVO",
    "outputId": "914b739f-d804-4632-a18b-3a632f4eaacc",
    "scrolled": true
   },
   "outputs": [],
   "source": [
    "# open file in read mode\n",
    "infile = open(\"names.txt\",\"r\")\n",
    "\n",
    "# loop to print the names\n",
    "for name in infile:\n",
    "    print(name)\n",
    "    # prints with extra newline between names\n",
    "\n",
    "# don't forget to close your files\n",
    "infile.close()"
   ]
  },
  {
   "cell_type": "markdown",
   "metadata": {
    "id": "MWoKvcy7KhVO"
   },
   "source": [
    "### Exercise: process names\n",
    "\n",
    "Print names as Last, First, instead of First Last."
   ]
  },
  {
   "cell_type": "code",
   "execution_count": null,
   "metadata": {
    "id": "L7ELp2wTKhVO",
    "scrolled": true
   },
   "outputs": [],
   "source": [
    "# open file in read mode\n",
    "\n",
    "\n",
    "# loop to print the names\n",
    "    # remove whitespace \n",
    "    # hint: Use the strip() string method\n",
    "\n",
    "    # need to convert name to Last, First\n",
    "    # hint: use the split() string method\n",
    "    # print(name)\n",
    "\n",
    "\n",
    "# don't forget to close your files\n"
   ]
  }
 ],
 "metadata": {
  "colab": {
   "collapsed_sections": [],
   "provenance": []
  },
  "kernelspec": {
   "display_name": "Python 3 (ipykernel)",
   "language": "python",
   "name": "python3"
  },
  "language_info": {
   "codemirror_mode": {
    "name": "ipython",
    "version": 3
   },
   "file_extension": ".py",
   "mimetype": "text/x-python",
   "name": "python",
   "nbconvert_exporter": "python",
   "pygments_lexer": "ipython3",
   "version": "3.10.4"
  }
 },
 "nbformat": 4,
 "nbformat_minor": 4
}
