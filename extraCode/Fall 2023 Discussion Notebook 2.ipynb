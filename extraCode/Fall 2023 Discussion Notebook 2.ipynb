{
 "cells": [
  {
   "cell_type": "markdown",
   "metadata": {
    "id": "qsb2WoaVaaNt"
   },
   "source": [
    "## Notebook for Discussion Week 2 \n",
    "## October 6 and October 9\n",
    "\n",
    "### Welcome to your first Jupyter notebook.\n",
    "\n",
    "During the second week of discussion sections we will look at how to load, modify, and save Jupyter notebooks in Google Colab. All students will have Google Colab accounts under their campus email adresses.\n",
    "\n",
    "During the second discussion section we would like to bring your attention to the following notebooks.\n",
    "\n",
    "\n",
    " 1. Discussion Notebook 2: This notebook \n",
    "\n",
    " 2. Core Python I: A core subset of the Python language used in this course. \n",
    " 3. Textbook Solutions: A folder containing solutions to the textbook exercises.\n",
    "\n",
    "In this notebook we will use Jupyer notebooks to look at some of the basics of Python: \n",
    "\n",
    " 1. using the print function\n",
    "\n",
    " 2. using the input function\n",
    "\n",
    " 3. Python data types (strings, integers, and floating point) \n",
    "\n",
    " 4. converting between Python types\n"
   ]
  },
  {
   "cell_type": "markdown",
   "metadata": {
    "id": "3Wt39A7ZaaNx"
   },
   "source": [
    "## Saving this notebook to your local workspace so you can modify it\n",
    "\n",
    " * While you are inside this notebook select \"Save as...\" from the File menu\n",
    " * You will see a prompt\n",
    "```text \n",
    " Enter a notebook path relative to notebook dir\n",
    "```\n",
    " * Enter the following exactly:\n",
    "```text\n",
    "Discussion Notebook 2.ipynb\n",
    "```"
   ]
  },
  {
   "cell_type": "markdown",
   "metadata": {
    "id": "MC-3RweoaaNy"
   },
   "source": [
    "## Types and variables"
   ]
  },
  {
   "cell_type": "code",
   "execution_count": null,
   "metadata": {
    "colab": {
     "base_uri": "https://localhost:8080/"
    },
    "executionInfo": {
     "elapsed": 4,
     "status": "ok",
     "timestamp": 1664342210267,
     "user": {
      "displayName": "Jinyue Song",
      "userId": "01273139709014091206"
     },
     "user_tz": 420
    },
    "id": "SOqZ1sqPaaNy",
    "outputId": "15b00407-713c-4653-b8aa-ae27bb727ba5"
   },
   "outputs": [
    {
     "name": "stdout",
     "output_type": "stream",
     "text": [
      "<class 'int'>\n",
      "<class 'float'>\n",
      "<class 'str'>\n"
     ]
    }
   ],
   "source": [
    "# Three basic data types covered so far\n",
    "# Each one also corresponds to a type conversion function\n",
    "print(type(1))\n",
    "print(type(1.0))\n",
    "print(type('1'))"
   ]
  },
  {
   "cell_type": "code",
   "execution_count": null,
   "metadata": {
    "colab": {
     "base_uri": "https://localhost:8080/"
    },
    "executionInfo": {
     "elapsed": 192,
     "status": "ok",
     "timestamp": 1664342229593,
     "user": {
      "displayName": "Jinyue Song",
      "userId": "01273139709014091206"
     },
     "user_tz": 420
    },
    "id": "_kiDaH5laaN0",
    "outputId": "b3d54a01-4bbc-477a-bee3-75087a5cbd34"
   },
   "outputs": [
    {
     "name": "stdout",
     "output_type": "stream",
     "text": [
      "1\n",
      "1.3\n",
      "1\n"
     ]
    }
   ],
   "source": [
    "# Can use these names as functions, to convert one data type into another\n",
    "# Example, converting an integer into a string, and checking its type\n",
    "print(int(float(\"1.3\")))\n",
    "print(str(1.3))\n",
    "print(str(1))"
   ]
  },
  {
   "cell_type": "markdown",
   "metadata": {
    "id": "1H4fK5IkaaN1"
   },
   "source": [
    "## Operations and data types\n",
    "Operator behavior depends on the data type!"
   ]
  },
  {
   "cell_type": "code",
   "execution_count": null,
   "metadata": {
    "colab": {
     "base_uri": "https://localhost:8080/"
    },
    "executionInfo": {
     "elapsed": 236,
     "status": "ok",
     "timestamp": 1664342354359,
     "user": {
      "displayName": "Jinyue Song",
      "userId": "01273139709014091206"
     },
     "user_tz": 420
    },
    "id": "boGAwGtcaaN1",
    "outputId": "97c07f9f-205d-44a5-f0f3-bd4d5edc3e1a"
   },
   "outputs": [
    {
     "name": "stdout",
     "output_type": "stream",
     "text": [
      "3\n",
      "12\n",
      "He is 20 years old\n"
     ]
    }
   ],
   "source": [
    "# adding with integers:\n",
    "print(1 + 2)\n",
    "\n",
    "# adding with strings:\n",
    "print(\"1\" + \"2\")\n",
    "\n",
    "# adding strings and integers\n",
    "print(\"He is\" , 20, \"years old\")"
   ]
  },
  {
   "cell_type": "code",
   "execution_count": null,
   "metadata": {
    "id": "L3oWcy_AaaN2",
    "outputId": "43b40a75-1463-4525-ccdf-5033abffc445"
   },
   "outputs": [
    {
     "name": "stdout",
     "output_type": "stream",
     "text": [
      "<class 'float'>\n",
      "1.5 <class 'float'>\n",
      "1\n",
      "0\n"
     ]
    }
   ],
   "source": [
    "# division\n",
    "print(type(4 / 2))\n",
    "quotient = 15 / 10\n",
    "print(quotient, type(quotient))\n",
    "\n",
    "# floor division //\n",
    "print(15 // 10)\n",
    "\n",
    "#modulo %\n",
    "print(4%2)"
   ]
  },
  {
   "cell_type": "markdown",
   "metadata": {
    "id": "i2rpG_lXaaN3"
   },
   "source": [
    "## Example: Temperature converter\n",
    "\n",
    "How would you update the following program so that it converts from 32 Fahreheit instead of 0 Fahrenheit?\n"
   ]
  },
  {
   "cell_type": "code",
   "execution_count": null,
   "metadata": {
    "id": "ixytSotPaaN3",
    "outputId": "3d340c7d-202b-46e9-ee49-f6e37f4e3914"
   },
   "outputs": [
    {
     "name": "stdout",
     "output_type": "stream",
     "text": [
      "18.1 Fahrenheit is -7.722222222222221 Celsius.\n",
      "<class 'float'> <class 'float'>\n"
     ]
    }
   ],
   "source": [
    "fahrenheit = 18.1\n",
    "celsius = (fahrenheit - 32.0) * (5/9)\n",
    "print(fahrenheit, \"Fahrenheit is\", celsius, \"Celsius.\")\n",
    "print(type(fahrenheit), type(celsius))"
   ]
  },
  {
   "cell_type": "markdown",
   "metadata": {
    "id": "BigpI11kaaN4"
   },
   "source": [
    "What is the type of fahrenheit? celsius?\n",
    "Can you modify the above program to find out using the type() function?"
   ]
  },
  {
   "cell_type": "markdown",
   "metadata": {
    "id": "h3nslM-0aaN5"
   },
   "source": [
    "## Input function"
   ]
  },
  {
   "cell_type": "code",
   "execution_count": null,
   "metadata": {
    "id": "r69jTXF-aaN5",
    "outputId": "73266204-3da9-484c-fcfe-f06cbbf62535"
   },
   "outputs": [
    {
     "name": "stdout",
     "output_type": "stream",
     "text": [
      "Type something again: 12\n",
      "<class 'int'>\n"
     ]
    }
   ],
   "source": [
    "usr_input = int(input(\"Type something again: \"))\n",
    "# what type do you think it will print?\n",
    "print(type(usr_input))\n"
   ]
  },
  {
   "cell_type": "markdown",
   "metadata": {
    "id": "9bTFzrU4aaN4"
   },
   "source": [
    "## Example: Whole number division"
   ]
  },
  {
   "cell_type": "markdown",
   "metadata": {
    "id": "VnBdaHcmrZM6"
   },
   "source": [
    "White code to implement the example output given in the comments below  \n",
    "\n",
    "Enter a number:7  \n",
    "Enter a number to divide that by:2  \n",
    "7 divided by 2 is 3 with 1 remaining  "
   ]
  },
  {
   "cell_type": "code",
   "execution_count": 1,
   "metadata": {
    "executionInfo": {
     "elapsed": 2,
     "status": "ok",
     "timestamp": 1664345133862,
     "user": {
      "displayName": "Jinyue Song",
      "userId": "01273139709014091206"
     },
     "user_tz": 420
    },
    "id": "gVrtBmhFaaN5"
   },
   "outputs": [],
   "source": [
    "## write program here ##\n"
   ]
  },
  {
   "cell_type": "markdown",
   "metadata": {
    "id": "ciSbNSN3aaN6"
   },
   "source": [
    "## Getting user input\n",
    "\n",
    "Consider the following program uses the input function to get two numbers to add from the user. It should then add two numbers and print the result. Run the program and enter 1 and 2. Does the result surprise you?"
   ]
  },
  {
   "cell_type": "code",
   "execution_count": null,
   "metadata": {
    "colab": {
     "base_uri": "https://localhost:8080/"
    },
    "executionInfo": {
     "elapsed": 3123,
     "status": "ok",
     "timestamp": 1664343669384,
     "user": {
      "displayName": "Jinyue Song",
      "userId": "01273139709014091206"
     },
     "user_tz": 420
    },
    "id": "5Wh19xg0aaN6",
    "outputId": "02c33e1d-b058-4af8-8001-795700e6504c"
   },
   "outputs": [
    {
     "name": "stdout",
     "output_type": "stream",
     "text": [
      "Enter a number:12\n",
      "Enter another number:12\n",
      "1212\n"
     ]
    }
   ],
   "source": [
    "a = input(\"Enter a number:\")\n",
    "b = input(\"Enter another number:\")\n",
    "print(a + b)"
   ]
  },
  {
   "cell_type": "markdown",
   "metadata": {
    "id": "u88wNAj3aaN6"
   },
   "source": [
    "The problem is that a and b are stings, so the program is not adding integers! The input function always returns a string. We can use the type() function to show that. Fix the program above, so that it correctly adds a and b as integers."
   ]
  },
  {
   "cell_type": "code",
   "execution_count": null,
   "metadata": {
    "colab": {
     "base_uri": "https://localhost:8080/"
    },
    "executionInfo": {
     "elapsed": 3398,
     "status": "ok",
     "timestamp": 1664343756166,
     "user": {
      "displayName": "Jinyue Song",
      "userId": "01273139709014091206"
     },
     "user_tz": 420
    },
    "id": "tMpUCr9GaaN7",
    "outputId": "cbb8d972-1ee1-48a1-e580-0e78ffe82934"
   },
   "outputs": [
    {
     "name": "stdout",
     "output_type": "stream",
     "text": [
      "Enter a number:1234\n",
      "<class 'str'>\n"
     ]
    }
   ],
   "source": [
    "a = input(\"Enter a number:\")\n",
    "print(type(a))"
   ]
  },
  {
   "cell_type": "code",
   "execution_count": 4,
   "metadata": {
    "executionInfo": {
     "elapsed": 168,
     "status": "ok",
     "timestamp": 1664345189757,
     "user": {
      "displayName": "Jinyue Song",
      "userId": "01273139709014091206"
     },
     "user_tz": 420
    },
    "id": "wZMFrYyom5mf"
   },
   "outputs": [],
   "source": [
    "## write program here ##\n"
   ]
  },
  {
   "cell_type": "markdown",
   "metadata": {
    "id": "bkvEo3plaaN7"
   },
   "source": [
    "## Strings and the print function"
   ]
  },
  {
   "cell_type": "code",
   "execution_count": null,
   "metadata": {
    "colab": {
     "base_uri": "https://localhost:8080/"
    },
    "executionInfo": {
     "elapsed": 5,
     "status": "ok",
     "timestamp": 1664345062917,
     "user": {
      "displayName": "Jinyue Song",
      "userId": "01273139709014091206"
     },
     "user_tz": 420
    },
    "id": "ZYpOU6x7aaN7",
    "outputId": "76f9be94-1be4-4eab-93b5-db8eecc8854b"
   },
   "outputs": [
    {
     "name": "stdout",
     "output_type": "stream",
     "text": [
      "Hello world\n",
      "Hello world\n",
      "\n",
      "\"name\" is he's\n"
     ]
    }
   ],
   "source": [
    "#printing with variables\n",
    "a = \"Hello\"\n",
    "print(a, \"world\")\n",
    "\n",
    "#printing with concatenation\n",
    "print(a + \" world\")\n",
    "\n",
    "#printing with extra blank line\n",
    "print()\n",
    "\n",
    "#printing both quotation marks and apostrophes\n",
    "print('\"name\" is', \"he's\")"
   ]
  },
  {
   "cell_type": "markdown",
   "metadata": {
    "id": "O2zXH9t0aaN8"
   },
   "source": [
    "## Example: mad libs"
   ]
  },
  {
   "cell_type": "markdown",
   "metadata": {
    "id": "n-_zhk72qd6G"
   },
   "source": [
    " Output:  \n",
    " Enter a class:ECS 32A  \n",
    " Enter an adjective:motivated  \n",
    " Enter a verb:learn  \n",
    " Enter an exclamation:awesome  \n",
    " \n",
    " The students in ECS 32A are really motivated.  \n",
    " They're always ready to learn.  \n",
    " When it's time for class, they always yell, \"awesome!\"  "
   ]
  },
  {
   "cell_type": "code",
   "execution_count": null,
   "metadata": {
    "colab": {
     "base_uri": "https://localhost:8080/"
    },
    "executionInfo": {
     "elapsed": 21116,
     "status": "ok",
     "timestamp": 1664344663614,
     "user": {
      "displayName": "Jinyue Song",
      "userId": "01273139709014091206"
     },
     "user_tz": 420
    },
    "id": "z1A0Ps0XaaN8",
    "outputId": "18b519d3-224a-4da0-e9b3-7adb0459f505"
   },
   "outputs": [
    {
     "name": "stdout",
     "output_type": "stream",
     "text": [
      "Enter a class:ECS32A\n",
      "Enter an adjective:motivated\n",
      "Enter a verb:learn\n",
      "Enter an exclamation:awesome\n",
      "\n",
      "The students in ECS32A are really motivated.\n",
      "They're always ready to learn.\n",
      "When it's time for class, they always yell, \"awesome!\"\n"
     ]
    }
   ],
   "source": [
    "## write program here ##\n",
    "\n",
    "\n"
   ]
  },
  {
   "cell_type": "markdown",
   "metadata": {
    "id": "e2glZOGoaaN8"
   },
   "source": [
    "## Example: ordinal function, ord()"
   ]
  },
  {
   "cell_type": "code",
   "execution_count": null,
   "metadata": {
    "id": "x1FXMBFfaaN9",
    "outputId": "2c7dd182-7bae-4906-c1b5-fd161a22956a"
   },
   "outputs": [
    {
     "name": "stdout",
     "output_type": "stream",
     "text": [
      "0b1100011\n"
     ]
    }
   ],
   "source": [
    "# explanation of what the ord() function is doing, using the ascii table\n",
    "# http://www.asciitable.com/\n",
    "print(bin(ord(\"c\")))"
   ]
  },
  {
   "cell_type": "code",
   "execution_count": null,
   "metadata": {
    "id": "I2_8OXg2aaN9",
    "outputId": "cf0f579d-9bd3-4817-ca21-015cf2baa140"
   },
   "outputs": [
    {
     "name": "stdout",
     "output_type": "stream",
     "text": [
      "0x63\n"
     ]
    }
   ],
   "source": [
    "print(hex(ord(\"c\")))\n"
   ]
  },
  {
   "cell_type": "code",
   "execution_count": null,
   "metadata": {
    "id": "Uuq_WmtBaaN9"
   },
   "outputs": [],
   "source": [
    "prnt = 1"
   ]
  },
  {
   "cell_type": "code",
   "execution_count": null,
   "metadata": {
    "id": "IkeKkIuoaaN9",
    "outputId": "72d2ce89-977d-40e0-c344-5b6ce1913268"
   },
   "outputs": [
    {
     "name": "stdout",
     "output_type": "stream",
     "text": [
      "1\n"
     ]
    }
   ],
   "source": [
    "print(1)"
   ]
  },
  {
   "cell_type": "code",
   "execution_count": null,
   "metadata": {
    "id": "D5bvP-w_aaN9"
   },
   "outputs": [],
   "source": []
  }
 ],
 "metadata": {
  "colab": {
   "collapsed_sections": [],
   "provenance": [
    {
     "file_id": "1Hr_1jJ9CdAygb615L-ilEz2VVBgX_rNf",
     "timestamp": 1664345096908
    },
    {
     "file_id": "1J5OhaaZTrafD7sAb_0FAsK9-LkkpqvJi",
     "timestamp": 1664344704502
    },
    {
     "file_id": "1sb4uQAf_MJrZC53Wxnbsjbjm90Ll8xTW",
     "timestamp": 1664340968771
    }
   ]
  },
  "kernelspec": {
   "display_name": "Python 3 (ipykernel)",
   "language": "python",
   "name": "python3"
  },
  "language_info": {
   "codemirror_mode": {
    "name": "ipython",
    "version": 3
   },
   "file_extension": ".py",
   "mimetype": "text/x-python",
   "name": "python",
   "nbconvert_exporter": "python",
   "pygments_lexer": "ipython3",
   "version": "3.10.4"
  }
 },
 "nbformat": 4,
 "nbformat_minor": 1
}
