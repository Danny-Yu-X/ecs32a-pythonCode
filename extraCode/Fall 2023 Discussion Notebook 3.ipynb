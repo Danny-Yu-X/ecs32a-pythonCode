{
  "cells": [
    {
      "cell_type": "markdown",
      "metadata": {
        "id": "jIy5B3_p3GA1"
      },
      "source": [
        "# Discussion Notebook 3\n",
        "## October 16th to October 20th\n",
        "\n",
        "During the third week of discussion sections we will look at conditional execution.\n",
        "\n",
        " 1. Comparison operators: == =! > >= < <=\n",
        "\n",
        " 2. Logical operators: and, or, not\n",
        "\n",
        " 3. Conditional statements if..elif..else\n",
        "\n",
        " 4. Some Exercise\n",
        "\n"
      ]
    },
    {
      "cell_type": "markdown",
      "metadata": {
        "id": "p5qy39Mf3GA3"
      },
      "source": [
        "## Comparison Operators\n",
        "Comparison operators work on numbers and strings. They compare two values are return True or False. For strings corresponding characters are compared from left to right and the integer representation of the character is the basis for the comparison. Remember looking under the hood using the ord() function to get the integer representation of the character? Look at the print statements below and see if you can predict the result of the  Boolean expressions that follow."
      ]
    },
    {
      "cell_type": "code",
      "source": [
        "a = bool(1==1.0)\n",
        "print(a)"
      ],
      "metadata": {
        "id": "dQV0Js-OPS_r",
        "colab": {
          "base_uri": "https://localhost:8080/"
        },
        "outputId": "d5b5a661-69fc-4051-d357-f56b2a9ae928"
      },
      "execution_count": null,
      "outputs": [
        {
          "output_type": "stream",
          "name": "stdout",
          "text": [
            "True\n"
          ]
        }
      ]
    },
    {
      "cell_type": "code",
      "source": [
        "b = bool(\"asdf\")\n",
        "print(b)"
      ],
      "metadata": {
        "id": "6Bgu_5YiO6SB",
        "colab": {
          "base_uri": "https://localhost:8080/"
        },
        "outputId": "20a0063c-6973-46b3-b9aa-87169aae0063"
      },
      "execution_count": null,
      "outputs": [
        {
          "output_type": "stream",
          "name": "stdout",
          "text": [
            "True\n"
          ]
        }
      ]
    },
    {
      "cell_type": "code",
      "source": [
        "c = bool(-1)\n",
        "print(c)"
      ],
      "metadata": {
        "id": "_gJxl4z2O8kT",
        "colab": {
          "base_uri": "https://localhost:8080/"
        },
        "outputId": "c301c8a0-8124-4f38-d9b9-a8daac739ef3"
      },
      "execution_count": null,
      "outputs": [
        {
          "output_type": "stream",
          "name": "stdout",
          "text": [
            "True\n"
          ]
        }
      ]
    },
    {
      "cell_type": "code",
      "source": [
        "d = bool(0)\n",
        "print(d)"
      ],
      "metadata": {
        "id": "fqvkDMrVO_Ua",
        "colab": {
          "base_uri": "https://localhost:8080/"
        },
        "outputId": "e91247c4-eed2-40b4-cf15-6dca15eabf43"
      },
      "execution_count": null,
      "outputs": [
        {
          "output_type": "stream",
          "name": "stdout",
          "text": [
            "False\n"
          ]
        }
      ]
    },
    {
      "cell_type": "code",
      "source": [
        "e = bool()\n",
        "print(e)"
      ],
      "metadata": {
        "id": "cjZYI-G8PytK",
        "colab": {
          "base_uri": "https://localhost:8080/"
        },
        "outputId": "fbc1e029-8ff3-4b24-aca2-7338f2a5556d"
      },
      "execution_count": null,
      "outputs": [
        {
          "output_type": "stream",
          "name": "stdout",
          "text": [
            "False\n"
          ]
        }
      ]
    },
    {
      "cell_type": "code",
      "source": [
        "f = bool('abc')\n",
        "print(f)"
      ],
      "metadata": {
        "id": "3QSxyUWUP2E1",
        "colab": {
          "base_uri": "https://localhost:8080/"
        },
        "outputId": "7429057a-8bb8-4909-ac32-c13c219aee76"
      },
      "execution_count": null,
      "outputs": [
        {
          "output_type": "stream",
          "name": "stdout",
          "text": [
            "True\n"
          ]
        }
      ]
    },
    {
      "cell_type": "code",
      "source": [
        "a = input(\"Enter:\")\n",
        "print(type(a))"
      ],
      "metadata": {
        "colab": {
          "base_uri": "https://localhost:8080/"
        },
        "id": "3ATZrJhfb-vQ",
        "outputId": "3a5228e1-9ae4-44fb-841c-9d3c0dcd07c8"
      },
      "execution_count": null,
      "outputs": [
        {
          "output_type": "stream",
          "name": "stdout",
          "text": [
            "Enter:asd\n",
            "<class 'str'>\n"
          ]
        }
      ]
    },
    {
      "cell_type": "code",
      "execution_count": null,
      "metadata": {
        "id": "l9KYEcZaApfS",
        "outputId": "17844d51-edde-444f-945a-39523888405a",
        "colab": {
          "base_uri": "https://localhost:8080/"
        }
      },
      "outputs": [
        {
          "output_type": "stream",
          "name": "stdout",
          "text": [
            "Enter first number: 12\n",
            "Enter second number: 13\n",
            "12 is less than 13\n"
          ]
        }
      ],
      "source": [
        "# comparison between integers\n",
        "a = int(input(\"Enter first number: \"))\n",
        "b = int(input(\"Enter second number: \"))\n",
        "\n",
        "if (a == b):\n",
        "    print(a,\"and\",b ,\"is equal\")\n",
        "elif (a < b):\n",
        "    print(a,\"is less than\",b)\n",
        "else: print(a,\"is more than\",b)\n"
      ]
    },
    {
      "cell_type": "code",
      "source": [
        "# comparison between floats???\n",
        "https://youtu.be/EYh35NrYkog?si=g8u8yi7HTI0QpQUF"
      ],
      "metadata": {
        "id": "9N3OlHYVUBV_"
      },
      "execution_count": null,
      "outputs": []
    },
    {
      "cell_type": "code",
      "execution_count": null,
      "metadata": {
        "id": "vt4WdQOsApfS",
        "outputId": "357ccc6a-1954-4135-b83b-368a2d0bb922",
        "colab": {
          "base_uri": "https://localhost:8080/"
        }
      },
      "outputs": [
        {
          "output_type": "stream",
          "name": "stdout",
          "text": [
            "Enter first number: 10\n",
            "Enter second number: 2\n",
            "10 comes before 2\n"
          ]
        }
      ],
      "source": [
        "# comparison between numbers as strings\n",
        "# with strings, comparison operator will sort alphabetically.\n",
        "# since 1 is before 5, \"10\" < \"5\" with strings.\n",
        "\n",
        "str1 = input(\"Enter first number: \")\n",
        "str2 = input(\"Enter second number: \")\n",
        "\n",
        "if (str1 < str2):\n",
        "    print(str1,\"comes before\",str2)\n",
        "elif (str1 == str2):\n",
        "    print(str1, \"and\", str2,\"is equal\")\n",
        "else: print(str1,\"comes after\", str2)\n"
      ]
    },
    {
      "cell_type": "code",
      "execution_count": null,
      "metadata": {
        "id": "6Bh1dG6QApfT",
        "outputId": "e340498f-3150-44fe-ddc4-1ec7e157f3e4",
        "colab": {
          "base_uri": "https://localhost:8080/"
        }
      },
      "outputs": [
        {
          "output_type": "stream",
          "name": "stdout",
          "text": [
            "Enter a lower case letter: a\n",
            "Enter an uppercase of the same letter: A\n",
            "\n",
            "\"a\" ordinal number is 97\n",
            "\"A\" ordinal number is 65\n",
            "\"a\" < \"A\" is False\n"
          ]
        }
      ],
      "source": [
        "# comparison between lower and uppercase\n",
        "# upper case letters are considered less than lower case letters.\n",
        "# this is based on their ordinal values, found using ord()\n",
        "lower = input(\"Enter a lower case letter: \")\n",
        "upper = input(\"Enter an uppercase of the same letter: \")\n",
        "print()\n",
        "print('\"'+lower+'\"',\"ordinal number is\", ord(lower))\n",
        "print('\"'+upper+'\"', \"ordinal number is\", ord(upper))\n",
        "print('\"'+lower+'\"',\"<\",'\"'+upper+'\"',\"is\",bool(upper>lower))\n"
      ]
    },
    {
      "cell_type": "code",
      "execution_count": null,
      "metadata": {
        "id": "X2G082IC3GA4",
        "outputId": "6594c8a0-f570-4da6-9cf5-7bdc3fc7615d"
      },
      "outputs": [
        {
          "name": "stdout",
          "output_type": "stream",
          "text": [
            "A - Z are 65 - 90\n",
            "a - z are 97 - 122\n",
            "0 - 9 are 48 - 57\n"
          ]
        }
      ],
      "source": [
        "print('A - Z', \"are\", ord('A'),\"-\",ord('Z'))\n",
        "print('a - z', \"are\", ord('a'),\"-\",ord('z'))\n",
        "print('0 - 9', \"are\", ord('0'),\"-\",ord('9'))"
      ]
    },
    {
      "cell_type": "markdown",
      "metadata": {
        "id": "MEkOyXl9ApfT"
      },
      "source": [
        "Comparison operators return a boolean value. As with any other value, we can assign that to a variable."
      ]
    },
    {
      "cell_type": "code",
      "execution_count": null,
      "metadata": {
        "id": "Gxyc-5DrApfU",
        "outputId": "775811cc-93e6-492d-a827-784c99df9f19"
      },
      "outputs": [
        {
          "name": "stdout",
          "output_type": "stream",
          "text": [
            "True\n"
          ]
        }
      ],
      "source": [
        "# assigning boolean values to a variable\n",
        "a = 1!=2\n",
        "print(a)"
      ]
    },
    {
      "cell_type": "markdown",
      "metadata": {
        "id": "wxWfxUxZApfU"
      },
      "source": [
        "## Logical Operators\n",
        "\n",
        "<u>and</u>, <u>or</u>, <u>not</u> are our logical operators. We can think of <u>and</u> as multiplication, and <u>or</u> as addition. Then, imagine that True is a 1, and False is a 0."
      ]
    },
    {
      "cell_type": "code",
      "execution_count": null,
      "metadata": {
        "id": "PaPeazVFApfU",
        "outputId": "26d9ab3f-819b-4acc-bc65-8b87a9cff1f7"
      },
      "outputs": [
        {
          "name": "stdout",
          "output_type": "stream",
          "text": [
            "False\n",
            "True\n",
            "True\n"
          ]
        }
      ],
      "source": [
        "# example: 0 times anything is 0\n",
        "a = (1==2 and 3==3)\n",
        "print(a)\n",
        "# example: 1 plus any value is greater than 0\n",
        "b = (0==0 or 2!=2)\n",
        "print(b)\n",
        "# if we don't use parentheses, order of operations is not, and, or\n",
        "c = 0==0 or 2!=2 and not 0\n",
        "print(c)"
      ]
    },
    {
      "cell_type": "markdown",
      "metadata": {
        "id": "ZK6R6NKPApfU"
      },
      "source": [
        "## Exercise 1: grades with plus or minus\n",
        "A: 93-100, A-: 90-92, B+: 87-89, B: 83-86, B-: 80-82, C+: 77-79, C: 73-76, C-: 70-72, D+: 67-69, D: 63-66, D-: 60-62, F: Below 60\n",
        "\n",
        "Could encode each individual case, but instead we'll use a nested conditional for the plus and minus"
      ]
    },
    {
      "cell_type": "code",
      "execution_count": null,
      "metadata": {
        "id": "dmtOpBR2ApfV",
        "outputId": "ea08f053-a998-4f5b-b368-6c8cd3e2487f",
        "colab": {
          "base_uri": "https://localhost:8080/"
        }
      },
      "outputs": [
        {
          "name": "stdout",
          "output_type": "stream",
          "text": [
            "Grade percentage:59\n"
          ]
        }
      ],
      "source": [
        "# Nested case\n"
      ]
    },
    {
      "cell_type": "code",
      "execution_count": null,
      "metadata": {
        "id": "Fsq18y_JApfV",
        "outputId": "1fedf96e-723e-40cd-c3b0-a5b52a8cdec6",
        "colab": {
          "base_uri": "https://localhost:8080/"
        }
      },
      "outputs": [
        {
          "output_type": "stream",
          "name": "stdout",
          "text": [
            "Letter grade is : F\n"
          ]
        }
      ],
      "source": [
        "# Individual case\n",
        "if grade_percent >= 93:\n",
        "    print(\"Letter grade is: A\")\n",
        "if grade_percent >= 90 and grade_percent <= 92:\n",
        "    print(\"Letter grade is : A-\")\n",
        "if grade_percent >= 87 and grade_percent <= 89:\n",
        "    print(\"Letter grade is : B+\")\n",
        "if grade_percent >= 83 and grade_percent <= 86:\n",
        "    print(\"Letter grade is : B\")\n",
        "if grade_percent >= 80 and grade_percent <= 82:\n",
        "    print(\"Letter grade is : B-\")\n",
        "if grade_percent >= 77 and grade_percent <= 79:\n",
        "    print(\"Letter grade is : +\")\n",
        "if grade_percent >= 73 and grade_percent <= 76:\n",
        "    print(\"Letter grade is : C\")\n",
        "if grade_percent >= 70 and grade_percent <= 72:\n",
        "    print(\"Letter grade is : C-\")\n",
        "if grade_percent >= 66 and grade_percent <= 69:\n",
        "    print(\"Letter grade is : D+\")\n",
        "if grade_percent >= 63 and grade_percent <= 66:\n",
        "    print(\"Letter grade is : D\")\n",
        "if grade_percent >= 60 and grade_percent <= 62:\n",
        "    print(\"Letter grade is : D-\")\n",
        "if grade_percent < 60:\n",
        "    print(\"Letter grade is : F\")\n"
      ]
    },
    {
      "cell_type": "code",
      "execution_count": null,
      "metadata": {
        "id": "t74ZK59wApfV",
        "outputId": "53c39feb-3583-4434-858f-9b13d8d83add"
      },
      "outputs": [
        {
          "name": "stdout",
          "output_type": "stream",
          "text": [
            "Letter grade is : A-\n"
          ]
        }
      ],
      "source": []
    },
    {
      "cell_type": "markdown",
      "metadata": {
        "id": "fMevxeUo3GBR"
      },
      "source": [
        "## Exercise 2: Year in Range\n",
        "Write a program that asks the user for a year between 1880 and 2020. If they enter a year in the correct range print \"Thank You!\" otherwise print \"Out of range!\". If you have extra time, do the follow up exercise immediately below."
      ]
    },
    {
      "cell_type": "code",
      "execution_count": null,
      "metadata": {
        "id": "tSuse0JW3GBS",
        "outputId": "b1d1fc63-99f6-495c-824d-1738f7ce4e35",
        "colab": {
          "base_uri": "https://localhost:8080/"
        }
      },
      "outputs": [
        {
          "output_type": "stream",
          "name": "stdout",
          "text": [
            "Please enter a year between 1880 and 2020:2023\n",
            "Wrong!!\n"
          ]
        }
      ],
      "source": []
    },
    {
      "cell_type": "markdown",
      "metadata": {
        "id": "a8y3BORA3GBU"
      },
      "source": [
        "If you have time, extend the year in range exercise to ask for an **even** year between 1880 and 2020."
      ]
    },
    {
      "cell_type": "code",
      "execution_count": null,
      "metadata": {
        "id": "dummfG5x3GBU",
        "outputId": "92b44529-1c61-419b-b2ef-1c2e7a7d23bc",
        "colab": {
          "base_uri": "https://localhost:8080/"
        }
      },
      "outputs": [
        {
          "output_type": "stream",
          "name": "stdout",
          "text": [
            "Please enter a year between 1880 and 2020:1881\n",
            "Nope\n"
          ]
        }
      ],
      "source": []
    },
    {
      "cell_type": "markdown",
      "metadata": {
        "id": "Xda98Ic03GBN"
      },
      "source": [
        "## Exercise 3: Ticket Price Calculator\n",
        "In the space below, write a program that determines the price of a movie ticket. If the person is 12 years old or younger they pay the child rate of `$8`. If they are 65 or older they pay the Senior rate of `$10`. Otherwise they pay `$12`. Consider different ways of implementing the logic.\n",
        "\n",
        "    Enter your age:12\n",
        "    Ticket cost is $8"
      ]
    },
    {
      "cell_type": "code",
      "execution_count": null,
      "metadata": {
        "id": "rRAddKgb3GBO",
        "outputId": "cbb7d439-948d-4d0e-c26c-c11af38cbb4c"
      },
      "outputs": [
        {
          "name": "stdout",
          "output_type": "stream",
          "text": [
            "Enter your age:55\n",
            "Ticket cost is $12\n"
          ]
        }
      ],
      "source": []
    },
    {
      "cell_type": "code",
      "execution_count": null,
      "metadata": {
        "id": "ovi_TLLuApfW",
        "outputId": "fbe8a29a-1086-4f14-dcde-ba4be1207e42"
      },
      "outputs": [
        {
          "name": "stdout",
          "output_type": "stream",
          "text": [
            "Enter your age:0\n",
            "Ticket cost is $8\n"
          ]
        }
      ],
      "source": []
    },
    {
      "cell_type": "markdown",
      "metadata": {
        "id": "iFDChSde3GBY"
      },
      "source": [
        "## Exercise 4: Student Discount  (Nested Conditionals)\n",
        "Extend the program above to ask people between the ages of 13 to 64 if they are a student. If they reply 'y' or 'Y' they  pay $10 for their ticket. You can do this with or without nesting. Your solution should use a nested conditional statement."
      ]
    },
    {
      "cell_type": "code",
      "execution_count": null,
      "metadata": {
        "id": "yaXnENVD3GBZ",
        "outputId": "072c8a59-779b-45d7-af81-dc380f175df7",
        "colab": {
          "base_uri": "https://localhost:8080/"
        }
      },
      "outputs": [
        {
          "output_type": "stream",
          "name": "stdout",
          "text": [
            "Enter your age:44\n",
            "Are you a student? Please enter('y'/'Y') or ('n'/'N'):y\n",
            "Ticket cost is $10\n"
          ]
        }
      ],
      "source": [
        "\n"
      ]
    },
    {
      "cell_type": "code",
      "execution_count": null,
      "metadata": {
        "id": "-ngevFwTApfX"
      },
      "outputs": [],
      "source": []
    }
  ],
  "metadata": {
    "colab": {
      "provenance": []
    },
    "kernelspec": {
      "display_name": "Python 3",
      "language": "python",
      "name": "python3"
    },
    "language_info": {
      "codemirror_mode": {
        "name": "ipython",
        "version": 3
      },
      "file_extension": ".py",
      "mimetype": "text/x-python",
      "name": "python",
      "nbconvert_exporter": "python",
      "pygments_lexer": "ipython3",
      "version": "3.7.6"
    }
  },
  "nbformat": 4,
  "nbformat_minor": 0
}