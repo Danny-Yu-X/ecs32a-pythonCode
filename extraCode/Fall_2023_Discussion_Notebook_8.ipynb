{
  "cells": [
    {
      "cell_type": "markdown",
      "metadata": {
        "id": "JcFjv7o-wD44"
      },
      "source": [
        "# ECS32A Discussion Notebook 8 Nov 27 - Dec 1\n",
        "\n",
        "During the eigth week of discussion sections we will look at additional string methods and functions.\n",
        "\n",
        " 1. Mutable vs Immutable.\n",
        " 2. String and list method examples\n",
        " 3. Functions\n",
        " 4. Fruitful and void functions\n",
        " 5. Dictionary - basic use"
      ]
    },
    {
      "cell_type": "markdown",
      "metadata": {
        "id": "an4pH377wD46"
      },
      "source": [
        " A string is a sequence of characters\n",
        "\n",
        " A list is a sequence of values\n",
        "### In python many operations work same on them (`len()`, `indexing []`)\n"
      ]
    },
    {
      "cell_type": "markdown",
      "metadata": {
        "id": "7jjoYatQwD47"
      },
      "source": [
        "## Mutable vs Immutable\n",
        "A mutable object can be changed after it is created, and an immutable object can’t."
      ]
    },
    {
      "cell_type": "markdown",
      "metadata": {
        "id": "Ea_PtwTvwD47"
      },
      "source": [
        "### Examples of mutable objects"
      ]
    },
    {
      "cell_type": "code",
      "execution_count": null,
      "metadata": {
        "id": "PzZJRrwewD47",
        "outputId": "27b70ba4-c300-4193-fad9-2437b8fbe9e8"
      },
      "outputs": [
        {
          "name": "stdout",
          "output_type": "stream",
          "text": [
            "[]\n",
            "[1, 4]\n",
            "[1]\n"
          ]
        }
      ],
      "source": [
        "L = []\n",
        "print(L) # The initial list\n",
        "L.append(1) # Adding a value to the end of the list L\n",
        "L.append(4)\n",
        "print(L)\n",
        "L.pop() # Removing the value at the end of the list L\n",
        "print(L)"
      ]
    },
    {
      "cell_type": "markdown",
      "metadata": {
        "id": "3GiSATqpwD48"
      },
      "source": [
        "### Examples of immutable objects"
      ]
    },
    {
      "cell_type": "code",
      "execution_count": null,
      "metadata": {
        "id": "e84ZG4b4wD48",
        "outputId": "69032189-cd4e-403d-899e-3bdd424b7529"
      },
      "outputs": [
        {
          "name": "stdout",
          "output_type": "stream",
          "text": [
            "##Immutable\n",
            "\n",
            "##Immutable\n",
            "\n",
            "Immutable\n"
          ]
        }
      ],
      "source": [
        "L = \"##Immutable\\n\"\n",
        "print(L)\n",
        "L.strip(\"#\") # stripping the # and whitespaces\n",
        "L.strip()\n",
        "print(L) # From the output we can see that the initial variable L remained the same\n",
        "\n",
        "L = L.strip(\"#\") # Reassign the new value back to variable L\n",
        "L = L.strip()\n",
        "\n",
        "print(L)"
      ]
    },
    {
      "cell_type": "markdown",
      "metadata": {
        "id": "MV0FhSzhwD48"
      },
      "source": [
        "As we can see from the example above methods of string do not change the original variable, it creates a new string that has the changed value. In order to use the modified values, we need to reassign these new strings back to the original variable L"
      ]
    },
    {
      "cell_type": "markdown",
      "metadata": {
        "id": "j0aLO_OIwD48"
      },
      "source": [
        "## Other useful methods in String / List"
      ]
    },
    {
      "cell_type": "code",
      "execution_count": null,
      "metadata": {
        "id": "uwt1RKx5wD48",
        "outputId": "35591f13-e8a8-4745-e3ac-ec6cd1f6f3cb"
      },
      "outputs": [
        {
          "name": "stdout",
          "output_type": "stream",
          "text": [
            "2\n",
            "2\n",
            "01232423230\n",
            "91232423239\n"
          ]
        }
      ],
      "source": [
        "## count\n",
        "## str.replace()\n",
        "string = \"01232423230\"\n",
        "print(string.count(\"0\")) # Counts the number of occurence of 0 in the string\n",
        "List = ['0', '1', '2', '3', '2', '4', '2', '3', '2', '3', '0']\n",
        "print(List.count(\"0\")) # Counts the number of occurence of 0 in the List\n",
        "\n",
        "string.replace(\"0\",\"9\")\n",
        "print(string) # doesn't change the original list without reassigning back to the variable --> immutable\n",
        "\n",
        "string = string.replace(\"0\",\"9\")\n",
        "print(string) #changes the original list without reassigning back to the variable --> mutable"
      ]
    },
    {
      "cell_type": "markdown",
      "metadata": {
        "id": "J9rEUvdnwD48"
      },
      "source": [
        "## Functions"
      ]
    },
    {
      "cell_type": "markdown",
      "metadata": {
        "id": "nSdwjCoowD48"
      },
      "source": [
        "Functions are like its own little program.\n",
        "\n",
        "Putting repetitive code into a function makes a program smaller and simpler.\n",
        "\n",
        "Dividing a long program into separate functions simplifies design and debugging, by breaking it up into parts.   \n",
        "\n",
        "You can reuse a function in other programs."
      ]
    },
    {
      "cell_type": "code",
      "execution_count": null,
      "metadata": {
        "id": "_-xyj0RDwD49",
        "outputId": "1d551737-ad62-4d62-95a8-d72736ec0d36"
      },
      "outputs": [
        {
          "name": "stdout",
          "output_type": "stream",
          "text": [
            "Welcome to week 8's discussion!\n",
            "Good luck on Midterm 2!\n"
          ]
        }
      ],
      "source": [
        "# An example function\n",
        "def the_first_function():\n",
        "    print(\"Welcome to week 8's discussion!\")\n",
        "    print(\"Good luck on Midterm 2!\")\n",
        "\n",
        "the_first_function()"
      ]
    },
    {
      "cell_type": "markdown",
      "metadata": {
        "id": "zM152-IPwD49"
      },
      "source": [
        "### A fruitful function (or method) returns a value.\n",
        "\n",
        "### A void function (or method) does not return a value. They still do useful work on the side! We call a functions interactions with the outside world apart from the return value side-effects."
      ]
    },
    {
      "cell_type": "code",
      "execution_count": null,
      "metadata": {
        "id": "K8FsXC8qwD49",
        "outputId": "2163bf88-098a-4529-adc0-ac8747a4e3a7"
      },
      "outputs": [
        {
          "name": "stdout",
          "output_type": "stream",
          "text": [
            "None\n",
            "None\n",
            "[1, 1, 3, 4, 5]\n"
          ]
        }
      ],
      "source": [
        "## Void function examples\n",
        "# most method in list, Since lists are mutable, they can be changed by some methods\n",
        "L = []\n",
        "print(L.append(1)) # void functions will return None\n",
        "print(L.extend([1,3,4,5]))\n",
        "print(L)\n"
      ]
    },
    {
      "cell_type": "code",
      "execution_count": null,
      "metadata": {
        "id": "AwaU5GVJwD49",
        "outputId": "1a81efdf-3439-4f3e-9484-307e3b68e0b7"
      },
      "outputs": [
        {
          "name": "stdout",
          "output_type": "stream",
          "text": [
            "Today's date: 2022-11-13\n"
          ]
        }
      ],
      "source": [
        "# Defining my own void function\n",
        "def print_time():\n",
        "\n",
        "    today = date.today()\n",
        "    print(\"Today's date:\", today)\n",
        "\n",
        "print_time() # encapsulated something complicate to just a function call\n"
      ]
    },
    {
      "cell_type": "code",
      "execution_count": null,
      "metadata": {
        "id": "q8IdGfYjwD49",
        "outputId": "46b59432-4a69-42b8-d9f9-450d7c153573"
      },
      "outputs": [
        {
          "name": "stdout",
          "output_type": "stream",
          "text": [
            "$$laptop##\n",
            "$$LAPTOP##\n",
            "Laptop##\n",
            "$$Laptop\n"
          ]
        }
      ],
      "source": [
        "# Fruitful function examples\n",
        "# every method in string, Since strings are immutable, they need to return a new value\n",
        "str1 = \"$$Laptop##\"\n",
        "print(str1.lower())\n",
        "print(str1.upper())\n",
        "print(str1.strip(\"$\"))\n",
        "print(str1.replace(\"#\",\"\"))"
      ]
    },
    {
      "cell_type": "markdown",
      "metadata": {
        "id": "CeSiXJY_wD49"
      },
      "source": [
        "### Arguments and Parameters\n",
        "\n",
        "To pass a value to your function, put a variable name between the parentheses in the function definition.\n",
        "\n",
        "Values passed are called arguments. They are assigned to variables called parameters which are valid only in the function."
      ]
    },
    {
      "cell_type": "code",
      "execution_count": null,
      "metadata": {
        "id": "s-IUgUyGwD49",
        "outputId": "1ce09875-2fd2-416c-a97e-83ae434a4501"
      },
      "outputs": [
        {
          "name": "stdout",
          "output_type": "stream",
          "text": [
            "10\n",
            "450\n"
          ]
        }
      ],
      "source": [
        "# Defining my own fruitful function\n",
        "\n",
        "def times_ten(param):\n",
        "    return param * 10\n",
        "\n",
        "print(times_ten(1))\n",
        "print(times_ten(45))"
      ]
    },
    {
      "cell_type": "markdown",
      "metadata": {
        "id": "jbDEeshIwD49"
      },
      "source": [
        "### Exercise:\n",
        "Rewrite the grade program from the previous discussion using a function called `computegrade` that takes a score as its parameter and returns a grade as a string."
      ]
    },
    {
      "cell_type": "code",
      "execution_count": null,
      "metadata": {
        "id": "JkJUs0mWwD49",
        "outputId": "f1230139-7c03-4f5c-f66d-9e22d6aea407"
      },
      "outputs": [
        {
          "name": "stdout",
          "output_type": "stream",
          "text": [
            "Please enter a grade: 23\n",
            "Letter grade is : F\n"
          ]
        }
      ],
      "source": [
        "grade_percent = int(input(\"Please enter a grade: \"))\n",
        "\n",
        "if grade_percent >= 93:\n",
        "    print(\"Letter grade is: A\")\n",
        "elif grade_percent >= 90:\n",
        "    print(\"Letter grade is : A-\")\n",
        "elif grade_percent >= 87 :\n",
        "    print(\"Letter grade is : B+\")\n",
        "elif grade_percent >= 83 :\n",
        "    print(\"Letter grade is : B\")\n",
        "elif grade_percent >= 80:\n",
        "    print(\"Letter grade is : B-\")\n",
        "elif grade_percent >= 77 :\n",
        "    print(\"Letter grade is : +\")\n",
        "elif grade_percent >= 73:\n",
        "    print(\"Letter grade is : C\")\n",
        "elif grade_percent >= 70 :\n",
        "    print(\"Letter grade is : C-\")\n",
        "elif grade_percent >= 66:\n",
        "    print(\"Letter grade is : D+\")\n",
        "elif grade_percent >= 63:\n",
        "    print(\"Letter grade is : D\")\n",
        "elif grade_percent >= 60:\n",
        "    print(\"Letter grade is : D-\")\n",
        "else:\n",
        "    print(\"Letter grade is : F\")"
      ]
    },
    {
      "cell_type": "code",
      "execution_count": null,
      "metadata": {
        "id": "fhNwlSQpwD49",
        "outputId": "9d992f8d-92e5-42d1-a2e1-a1fb8252956d"
      },
      "outputs": [
        {
          "name": "stdout",
          "output_type": "stream",
          "text": [
            "Please enter a grade: 23\n",
            "Letter grade is: F\n"
          ]
        }
      ],
      "source": [
        "#computegrade function\n",
        "\n",
        "\n",
        "grade_percent = int(input(\"Please enter a grade: \"))\n",
        "letter_grade = computegrade(grade_percent)\n",
        "print(\"Letter grade is:\",letter_grade)"
      ]
    },
    {
      "cell_type": "markdown",
      "metadata": {
        "id": "WIqZh5uBwD4-"
      },
      "source": [
        "## Using the dictionary\n",
        "\n",
        "When a dictionary is used in a progam, it typically begins its life as an empty dictionary to which key-value pairs are added and later retrieved."
      ]
    },
    {
      "cell_type": "code",
      "execution_count": null,
      "metadata": {
        "id": "LxjpQIE-wD4-",
        "outputId": "a8f17352-831c-46bc-a340-36c8164af607"
      },
      "outputs": [
        {
          "name": "stdout",
          "output_type": "stream",
          "text": [
            "{'Jan': 31, 'Feb': 28, 'Mar': 31}\n"
          ]
        }
      ],
      "source": [
        "# New empty dictionary of days in the month\n",
        "D = {}\n",
        "# Add key-value pairs to dictionary\n",
        "D['Jan'] = 31\n",
        "D['Feb'] = 28\n",
        "D['Mar'] = 31\n",
        "print(D)\n"
      ]
    },
    {
      "cell_type": "code",
      "execution_count": null,
      "metadata": {
        "id": "Tq6mwXUcwD4-",
        "outputId": "31cc00fe-2a35-4c4f-ab5c-578c847f1bd3"
      },
      "outputs": [
        {
          "name": "stdout",
          "output_type": "stream",
          "text": [
            "31\n"
          ]
        }
      ],
      "source": [
        "# Retrieve and print a value for given key\n",
        "print(D['Jan'])"
      ]
    },
    {
      "cell_type": "code",
      "execution_count": null,
      "metadata": {
        "id": "hofMPQqPwD4-",
        "outputId": "3a51e8a1-dfd1-4b85-e8bd-4668df82ed16"
      },
      "outputs": [
        {
          "name": "stdout",
          "output_type": "stream",
          "text": [
            "{'Jan': 31, 'Feb': 28, 'Mar': 1}\n"
          ]
        }
      ],
      "source": [
        "# Modify Value for a given key\n",
        "D['Mar']=1\n",
        "print(D)"
      ]
    },
    {
      "cell_type": "code",
      "execution_count": null,
      "metadata": {
        "id": "z6sU1vsVwD4-",
        "outputId": "6cfce36e-096a-4c57-e0e1-5df9c4d204a3"
      },
      "outputs": [
        {
          "ename": "KeyError",
          "evalue": "0",
          "output_type": "error",
          "traceback": [
            "\u001b[0;31m---------------------------------------------------------------------------\u001b[0m",
            "\u001b[0;31mKeyError\u001b[0m                                  Traceback (most recent call last)",
            "\u001b[0;32m<ipython-input-33-43c744c8ad27>\u001b[0m in \u001b[0;36m<module>\u001b[0;34m\u001b[0m\n\u001b[1;32m      1\u001b[0m \u001b[0;31m# error, dictionary does not have index or order.\u001b[0m\u001b[0;34m\u001b[0m\u001b[0;34m\u001b[0m\u001b[0;34m\u001b[0m\u001b[0m\n\u001b[0;32m----> 2\u001b[0;31m \u001b[0mprint\u001b[0m\u001b[0;34m(\u001b[0m\u001b[0mD\u001b[0m\u001b[0;34m[\u001b[0m\u001b[0;36m0\u001b[0m\u001b[0;34m]\u001b[0m\u001b[0;34m)\u001b[0m\u001b[0;34m\u001b[0m\u001b[0;34m\u001b[0m\u001b[0m\n\u001b[0m\u001b[1;32m      3\u001b[0m \u001b[0;31m# print(D['Apr']) # error, key 'apr' is not in the dictionary\u001b[0m\u001b[0;34m\u001b[0m\u001b[0;34m\u001b[0m\u001b[0;34m\u001b[0m\u001b[0m\n",
            "\u001b[0;31mKeyError\u001b[0m: 0"
          ]
        }
      ],
      "source": [
        "# error, dictionary does not have index or order.\n",
        "print(D[0])\n"
      ]
    },
    {
      "cell_type": "code",
      "execution_count": null,
      "metadata": {
        "id": "aTR6oO2bwD4-",
        "outputId": "b11adb1f-35b3-4e1a-9099-39da474afef0"
      },
      "outputs": [
        {
          "ename": "KeyError",
          "evalue": "'Apr'",
          "output_type": "error",
          "traceback": [
            "\u001b[0;31m---------------------------------------------------------------------------\u001b[0m",
            "\u001b[0;31mKeyError\u001b[0m                                  Traceback (most recent call last)",
            "\u001b[0;32m<ipython-input-35-69c57b9f7778>\u001b[0m in \u001b[0;36m<module>\u001b[0;34m\u001b[0m\n\u001b[1;32m      1\u001b[0m \u001b[0;31m# error, key 'apr' is not in the dictionary\u001b[0m\u001b[0;34m\u001b[0m\u001b[0;34m\u001b[0m\u001b[0;34m\u001b[0m\u001b[0m\n\u001b[0;32m----> 2\u001b[0;31m \u001b[0mprint\u001b[0m\u001b[0;34m(\u001b[0m\u001b[0mD\u001b[0m\u001b[0;34m[\u001b[0m\u001b[0;34m'Apr'\u001b[0m\u001b[0;34m]\u001b[0m\u001b[0;34m)\u001b[0m\u001b[0;34m\u001b[0m\u001b[0;34m\u001b[0m\u001b[0m\n\u001b[0m",
            "\u001b[0;31mKeyError\u001b[0m: 'Apr'"
          ]
        }
      ],
      "source": [
        "# error, key 'apr' is not in the dictionary\n",
        "print(D['Apr'])"
      ]
    },
    {
      "cell_type": "markdown",
      "metadata": {
        "id": "MKarnEUQwD4-"
      },
      "source": [
        "Values can be both added and retrieved using the square bracket operator. When retrieving values this way it is important to make sure they are in the dictionary otherwise you will get a runtime error. The if statement below guards against such an error occuring.\n",
        "\n",
        "The get method is an alternative way of retrieving a value without error. The get method can return a default value when the key is not present"
      ]
    },
    {
      "cell_type": "code",
      "execution_count": null,
      "metadata": {
        "id": "UsqRNXViwD4-",
        "outputId": "8523ed57-f0ca-4012-f551-587d865d3542"
      },
      "outputs": [
        {
          "name": "stdout",
          "output_type": "stream",
          "text": [
            "Days in January 31\n"
          ]
        }
      ],
      "source": [
        "# Retrieve and print a value for given key\n",
        "print(\"Days in January\", D['Jan'])\n",
        "\n",
        "if 'Jun' in D:\n",
        "    print(\"Days in June\",D['Jun'])\n"
      ]
    },
    {
      "cell_type": "code",
      "execution_count": null,
      "metadata": {
        "id": "yQmyWxcPwD4-",
        "outputId": "3a3b5937-bd28-4dd8-f74b-698a4f96c0cd"
      },
      "outputs": [
        {
          "name": "stdout",
          "output_type": "stream",
          "text": [
            "Days in June None\n",
            "Days in June -5\n"
          ]
        }
      ],
      "source": [
        "# Retrieve and print a value for given key\n",
        "print(\"Days in June\", D.get('Jun'))\n",
        "print(\"Days in June\", D.get('Jun',-5)) # -5 here means what value to display if key 'Jun' is not found\n",
        "# print(\"Days in June\", D.get('Jun',\"Not found\"))"
      ]
    },
    {
      "cell_type": "markdown",
      "metadata": {
        "id": "j5wNHiEkwD4-"
      },
      "source": [
        "The most common way to loop through a dictionary is by key."
      ]
    },
    {
      "cell_type": "code",
      "execution_count": null,
      "metadata": {
        "id": "35eHxlprwD4-",
        "outputId": "6cc8f37d-4fb6-4e64-b068-3277b66988aa"
      },
      "outputs": [
        {
          "name": "stdout",
          "output_type": "stream",
          "text": [
            "Jan has 31 days\n",
            "Feb has 28 days\n",
            "Mar has 1 days\n"
          ]
        }
      ],
      "source": [
        "for key in D:\n",
        "    print(key, \"has\", D[key], \"days\")"
      ]
    },
    {
      "cell_type": "markdown",
      "metadata": {
        "id": "Z81iY_F4wD4-"
      },
      "source": [
        "Another common way to loop through a dictionary is by item. An item is just another name for a key-value pair. The items method returns a sequence of (key,value) tuples."
      ]
    },
    {
      "cell_type": "code",
      "execution_count": null,
      "metadata": {
        "id": "aJ6TivhgwD4-",
        "outputId": "c9e3a615-d6f7-4a91-c056-d7a69592e453"
      },
      "outputs": [
        {
          "name": "stdout",
          "output_type": "stream",
          "text": [
            "Jan has 31 days\n",
            "Feb has 28 days\n",
            "Mar has 1 days\n"
          ]
        }
      ],
      "source": [
        "for key,value in D.items(): # .items() : important and useful, it returns both key and its value.\n",
        "    print(key, \"has\", value, \"days\")\n"
      ]
    },
    {
      "cell_type": "code",
      "execution_count": null,
      "metadata": {
        "id": "C4ptWLitwD4-",
        "outputId": "7c27d34f-d1d4-446d-f007-ee04fe5dac68"
      },
      "outputs": [
        {
          "name": "stdout",
          "output_type": "stream",
          "text": [
            "{'a': 2, 'b': 4, 'c': 10}\n"
          ]
        }
      ],
      "source": [
        "D = {\"a\":1,\"b\":4,\"c\":10}\n",
        "# Add key-value pairs to dictionary\n",
        "D[\"a\"] = D[\"a\"] + D.get(\"a\",0) # useful way to use get\n",
        "print(D)"
      ]
    },
    {
      "cell_type": "code",
      "execution_count": null,
      "metadata": {
        "id": "HOcZncDAwD4-"
      },
      "outputs": [],
      "source": []
    }
  ],
  "metadata": {
    "kernelspec": {
      "display_name": "Python 3",
      "language": "python",
      "name": "python3"
    },
    "language_info": {
      "codemirror_mode": {
        "name": "ipython",
        "version": 3
      },
      "file_extension": ".py",
      "mimetype": "text/x-python",
      "name": "python",
      "nbconvert_exporter": "python",
      "pygments_lexer": "ipython3",
      "version": "3.7.6"
    },
    "colab": {
      "provenance": []
    }
  },
  "nbformat": 4,
  "nbformat_minor": 0
}