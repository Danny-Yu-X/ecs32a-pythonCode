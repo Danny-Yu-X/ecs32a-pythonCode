{
 "cells": [
  {
   "cell_type": "markdown",
   "metadata": {},
   "source": [
    "<div class=\"alert alert-block alert-info\">\n",
    "    \n",
    "# ECS 32A Core Python 3"
   ]
  },
  {
   "cell_type": "markdown",
   "metadata": {},
   "source": [
    "## Values and Types"
   ]
  },
  {
   "cell_type": "code",
   "execution_count": 1,
   "metadata": {},
   "outputs": [
    {
     "name": "stdout",
     "output_type": "stream",
     "text": [
      "<class 'int'>\n"
     ]
    }
   ],
   "source": [
    "print(type(420))   # integers are whole numbers"
   ]
  },
  {
   "cell_type": "code",
   "execution_count": 16,
   "metadata": {},
   "outputs": [
    {
     "name": "stdout",
     "output_type": "stream",
     "text": [
      "<class 'float'>\n"
     ]
    }
   ],
   "source": [
    "print(type(42.0))  # floating point values have a decimal point"
   ]
  },
  {
   "cell_type": "code",
   "execution_count": 17,
   "metadata": {},
   "outputs": [
    {
     "name": "stdout",
     "output_type": "stream",
     "text": [
      "<class 'str'>\n"
     ]
    }
   ],
   "source": [
    "print(type('Spot said \"Woof\"'))  # strings are in quotes (single or double)"
   ]
  },
  {
   "cell_type": "code",
   "execution_count": 18,
   "metadata": {},
   "outputs": [
    {
     "name": "stdout",
     "output_type": "stream",
     "text": [
      "<class 'str'>\n"
     ]
    }
   ],
   "source": [
    "print(type(\"What's up\")) # str are text"
   ]
  },
  {
   "cell_type": "code",
   "execution_count": 5,
   "metadata": {},
   "outputs": [
    {
     "name": "stdout",
     "output_type": "stream",
     "text": [
      "<class 'bool'>\n"
     ]
    }
   ],
   "source": [
    "print(type(True)) # Only two boolean values True and False"
   ]
  },
  {
   "cell_type": "markdown",
   "metadata": {},
   "source": [
    "## Type Conversion"
   ]
  },
  {
   "cell_type": "code",
   "execution_count": 2,
   "metadata": {},
   "outputs": [
    {
     "data": {
      "text/plain": [
       "42"
      ]
     },
     "execution_count": 2,
     "metadata": {},
     "output_type": "execute_result"
    }
   ],
   "source": [
    "int(\"42\") # Convert to integer"
   ]
  },
  {
   "cell_type": "code",
   "execution_count": 9,
   "metadata": {
    "scrolled": true
   },
   "outputs": [
    {
     "data": {
      "text/plain": [
       "42.0"
      ]
     },
     "execution_count": 9,
     "metadata": {},
     "output_type": "execute_result"
    }
   ],
   "source": [
    "float(\"42.0\") # Convert to float"
   ]
  },
  {
   "cell_type": "code",
   "execution_count": 11,
   "metadata": {},
   "outputs": [
    {
     "data": {
      "text/plain": [
       "'42.0%'"
      ]
     },
     "execution_count": 11,
     "metadata": {},
     "output_type": "execute_result"
    }
   ],
   "source": [
    "str(42.0)+\"%\" # Convert to string"
   ]
  },
  {
   "cell_type": "code",
   "execution_count": 13,
   "metadata": {},
   "outputs": [
    {
     "data": {
      "text/plain": [
       "False"
      ]
     },
     "execution_count": 13,
     "metadata": {},
     "output_type": "execute_result"
    }
   ],
   "source": [
    "bool(\"False\") # Non-empty strings and non-zero numbers are True"
   ]
  },
  {
   "cell_type": "markdown",
   "metadata": {},
   "source": [
    "## Operators"
   ]
  },
  {
   "cell_type": "markdown",
   "metadata": {},
   "source": [
    "### Numeric"
   ]
  },
  {
   "cell_type": "code",
   "execution_count": 27,
   "metadata": {},
   "outputs": [
    {
     "name": "stdout",
     "output_type": "stream",
     "text": [
      "2 2.0 2.0\n"
     ]
    }
   ],
   "source": [
    "print(1+1, 1+1.0, 1.0+1.0) # addition"
   ]
  },
  {
   "cell_type": "code",
   "execution_count": 28,
   "metadata": {},
   "outputs": [
    {
     "name": "stdout",
     "output_type": "stream",
     "text": [
      "1 1.0 1.0\n"
     ]
    }
   ],
   "source": [
    "print(2-1, 2-1.0, 2.0-1.0) # subtraction"
   ]
  },
  {
   "cell_type": "code",
   "execution_count": 29,
   "metadata": {},
   "outputs": [
    {
     "name": "stdout",
     "output_type": "stream",
     "text": [
      "4 4.0 4.0\n"
     ]
    }
   ],
   "source": [
    "print(2*2, 2*2.0, 2.0*2.0) # multiply"
   ]
  },
  {
   "cell_type": "code",
   "execution_count": 30,
   "metadata": {},
   "outputs": [
    {
     "name": "stdout",
     "output_type": "stream",
     "text": [
      "4.0 4.0 4.0\n"
     ]
    }
   ],
   "source": [
    "print(8/2, 8/2.0, 8.0/2.0) # divide"
   ]
  },
  {
   "cell_type": "code",
   "execution_count": 31,
   "metadata": {},
   "outputs": [
    {
     "name": "stdout",
     "output_type": "stream",
     "text": [
      "3 1.0\n"
     ]
    }
   ],
   "source": [
    "print(98//25, 119.5//60)  # floor or whole number division"
   ]
  },
  {
   "cell_type": "code",
   "execution_count": 34,
   "metadata": {},
   "outputs": [
    {
     "name": "stdout",
     "output_type": "stream",
     "text": [
      "23 59.5\n"
     ]
    }
   ],
   "source": [
    "print(98%25, 119.5%60)  # modulus or remainder"
   ]
  },
  {
   "cell_type": "markdown",
   "metadata": {},
   "source": [
    "### Concatenation and Repetition"
   ]
  },
  {
   "cell_type": "code",
   "execution_count": 35,
   "metadata": {
    "scrolled": true
   },
   "outputs": [
    {
     "data": {
      "text/plain": [
       "'Spam!'"
      ]
     },
     "execution_count": 35,
     "metadata": {},
     "output_type": "execute_result"
    }
   ],
   "source": [
    "\"Spam\" + \"!\"  # String Concatenation"
   ]
  },
  {
   "cell_type": "code",
   "execution_count": 3,
   "metadata": {},
   "outputs": [
    {
     "data": {
      "text/plain": [
       "'     '"
      ]
     },
     "execution_count": 3,
     "metadata": {},
     "output_type": "execute_result"
    }
   ],
   "source": [
    "\" \" * 5  # String Repetition"
   ]
  },
  {
   "cell_type": "code",
   "execution_count": 3,
   "metadata": {},
   "outputs": [
    {
     "data": {
      "text/plain": [
       "['Spam', 'Eggs']"
      ]
     },
     "execution_count": 3,
     "metadata": {},
     "output_type": "execute_result"
    }
   ],
   "source": [
    "[ \"Spam\" ] + [\"Eggs\"] # List Concatenation"
   ]
  },
  {
   "cell_type": "code",
   "execution_count": 4,
   "metadata": {},
   "outputs": [
    {
     "data": {
      "text/plain": [
       "[0, 0, 0, 0, 0]"
      ]
     },
     "execution_count": 4,
     "metadata": {},
     "output_type": "execute_result"
    }
   ],
   "source": [
    "[ 0 ] * 5 # List Repetition"
   ]
  },
  {
   "cell_type": "markdown",
   "metadata": {},
   "source": [
    "<div class=\"alert alert-block alert-info\">\n",
    "\n",
    "Operator Precedence\n",
    "===================\n",
    "<b>P</b>arentheses ()<br>\n",
    "<b>E</b>xponent **<br>\n",
    "<b>M</b>ultiply and <b>D</b>ivide * /<br>\n",
    "<b>A</b>dd and <b>S</b>ubtract + -<br>\n",
    "comparison <tt>== != < <= > >=<br>\n",
    "<tt>not</tt><br>\n",
    "<tt>and</tt><br>\n",
    "<tt>or</tt><br><br>     Operators with the same precedence are evaluated left to right."
   ]
  },
  {
   "cell_type": "markdown",
   "metadata": {},
   "source": [
    "## Variable assignment, increment, decrement"
   ]
  },
  {
   "cell_type": "code",
   "execution_count": 37,
   "metadata": {},
   "outputs": [],
   "source": [
    "count = 1 # assignment statements create variables\n",
    "count = count + 1 # increment count by 1\n",
    "count += 1 # increment count by 1 \n",
    "count = count - 1 # decrement count by 1\n",
    "count -= 1 # decrement count by 1"
   ]
  },
  {
   "cell_type": "markdown",
   "metadata": {},
   "source": [
    "## User input"
   ]
  },
  {
   "cell_type": "code",
   "execution_count": 14,
   "metadata": {},
   "outputs": [
    {
     "name": "stdout",
     "output_type": "stream",
     "text": [
      "Enter text:Hello there!\n",
      "You entered 'Hello there!'.\n"
     ]
    }
   ],
   "source": [
    "ans_str = input(\"Enter text:\")\n",
    "print(\"You entered '\" + ans_str + \"'.\")"
   ]
  },
  {
   "cell_type": "markdown",
   "metadata": {},
   "source": [
    "## Print"
   ]
  },
  {
   "cell_type": "code",
   "execution_count": 39,
   "metadata": {
    "scrolled": true
   },
   "outputs": [
    {
     "name": "stdout",
     "output_type": "stream",
     "text": [
      "First Last\n",
      "Last First\n",
      "Last,First\n",
      "Last,First\n"
     ]
    }
   ],
   "source": [
    "# Printing x and y\n",
    "x = \"First\"  \n",
    "y = \"Last\" \n",
    "\n",
    "print(x,y) # line 1 First Last \n",
    "\n",
    "# swap variables x and y\n",
    "temp = x\n",
    "x = y\n",
    "y = temp\n",
    "\n",
    "print(x,y) # line 2 Last First \n",
    "\n",
    "# Printing using sep and end\n",
    "print(x,y, sep = \",\") # line 3 Last,First\n",
    "print(x, end = \",\")   # line 4 Last,\n",
    "print(y)              # line 4 cont. First\n"
   ]
  },
  {
   "cell_type": "markdown",
   "metadata": {},
   "source": [
    "## Formatting numbers"
   ]
  },
  {
   "cell_type": "code",
   "execution_count": 40,
   "metadata": {},
   "outputs": [
    {
     "data": {
      "text/plain": [
       "'3.1416'"
      ]
     },
     "execution_count": 40,
     "metadata": {},
     "output_type": "execute_result"
    }
   ],
   "source": [
    "\"{:.4f}\".format(3.14159262) # 4 digits of precision"
   ]
  },
  {
   "cell_type": "code",
   "execution_count": 5,
   "metadata": {},
   "outputs": [
    {
     "data": {
      "text/plain": [
       "'$3.14'"
      ]
     },
     "execution_count": 5,
     "metadata": {},
     "output_type": "execute_result"
    }
   ],
   "source": [
    "\"${:.2f}\".format(3.14159262) # 2 digits of precision with added $"
   ]
  },
  {
   "cell_type": "code",
   "execution_count": 4,
   "metadata": {},
   "outputs": [
    {
     "data": {
      "text/plain": [
       "'     3'"
      ]
     },
     "execution_count": 4,
     "metadata": {},
     "output_type": "execute_result"
    }
   ],
   "source": [
    "\"{:6.0f}\".format(3.14159262) # width 6 with 0 digits of precision"
   ]
  },
  {
   "cell_type": "markdown",
   "metadata": {},
   "source": [
    "## Conditional Execution\n",
    "### Comparison operators"
   ]
  },
  {
   "cell_type": "code",
   "execution_count": 20,
   "metadata": {},
   "outputs": [],
   "source": [
    "age = 18   # Assign age the value 18 "
   ]
  },
  {
   "cell_type": "code",
   "execution_count": 44,
   "metadata": {},
   "outputs": [
    {
     "data": {
      "text/plain": [
       "True"
      ]
     },
     "execution_count": 44,
     "metadata": {},
     "output_type": "execute_result"
    }
   ],
   "source": [
    "age == 18  # age is equal to the value 18?"
   ]
  },
  {
   "cell_type": "code",
   "execution_count": 22,
   "metadata": {},
   "outputs": [
    {
     "data": {
      "text/plain": [
       "True"
      ]
     },
     "execution_count": 22,
     "metadata": {},
     "output_type": "execute_result"
    }
   ],
   "source": [
    "age != 19  # is not equal to "
   ]
  },
  {
   "cell_type": "code",
   "execution_count": 23,
   "metadata": {},
   "outputs": [
    {
     "data": {
      "text/plain": [
       "False"
      ]
     },
     "execution_count": 23,
     "metadata": {},
     "output_type": "execute_result"
    }
   ],
   "source": [
    "age < 18   # is less than "
   ]
  },
  {
   "cell_type": "code",
   "execution_count": 24,
   "metadata": {},
   "outputs": [
    {
     "data": {
      "text/plain": [
       "True"
      ]
     },
     "execution_count": 24,
     "metadata": {},
     "output_type": "execute_result"
    }
   ],
   "source": [
    "age <= 18  # less than or equal"
   ]
  },
  {
   "cell_type": "code",
   "execution_count": 25,
   "metadata": {},
   "outputs": [
    {
     "data": {
      "text/plain": [
       "False"
      ]
     },
     "execution_count": 25,
     "metadata": {},
     "output_type": "execute_result"
    }
   ],
   "source": [
    "age > 18   # is greater than"
   ]
  },
  {
   "cell_type": "code",
   "execution_count": 26,
   "metadata": {},
   "outputs": [
    {
     "data": {
      "text/plain": [
       "True"
      ]
     },
     "execution_count": 26,
     "metadata": {},
     "output_type": "execute_result"
    }
   ],
   "source": [
    "age >= 18  # greater than or equal"
   ]
  },
  {
   "cell_type": "markdown",
   "metadata": {},
   "source": [
    "### Simple if Statement"
   ]
  },
  {
   "cell_type": "code",
   "execution_count": 27,
   "metadata": {
    "code_folding": []
   },
   "outputs": [
    {
     "name": "stdout",
     "output_type": "stream",
     "text": [
      "You can vote!\n"
     ]
    }
   ],
   "source": [
    "if age >= 18:\n",
    "    print(\"You can vote!\")"
   ]
  },
  {
   "cell_type": "markdown",
   "metadata": {},
   "source": [
    "###  if-elif-else Statement"
   ]
  },
  {
   "cell_type": "code",
   "execution_count": 30,
   "metadata": {},
   "outputs": [
    {
     "name": "stdout",
     "output_type": "stream",
     "text": [
      "You can drive to vote!\n"
     ]
    }
   ],
   "source": [
    "age = 18\n",
    "if age < 16: \n",
    "    print(\"You can't drive or vote!\")\n",
    "elif age < 18:\n",
    "    print(\"You can drive but can't vote\")\n",
    "else:\n",
    "    print(\"You can drive to vote!\")"
   ]
  },
  {
   "cell_type": "markdown",
   "metadata": {},
   "source": [
    "### Logical operators: and, or, not"
   ]
  },
  {
   "cell_type": "code",
   "execution_count": null,
   "metadata": {},
   "outputs": [],
   "source": [
    "True and True   # True\n",
    "True and False  # False\n",
    "False and True  # False\n",
    "False and False # False"
   ]
  },
  {
   "cell_type": "code",
   "execution_count": null,
   "metadata": {},
   "outputs": [],
   "source": [
    "True or True    # True\n",
    "True or False   # True\n",
    "False or True   # True\n",
    "False or False  # False"
   ]
  },
  {
   "cell_type": "code",
   "execution_count": null,
   "metadata": {},
   "outputs": [],
   "source": [
    "not True  # False\n",
    "not False # True"
   ]
  },
  {
   "cell_type": "markdown",
   "metadata": {},
   "source": [
    "### Boolean variables and expressions"
   ]
  },
  {
   "cell_type": "code",
   "execution_count": 68,
   "metadata": {},
   "outputs": [
    {
     "name": "stdout",
     "output_type": "stream",
     "text": [
      "True\n"
     ]
    }
   ],
   "source": [
    "age = 18  # Assign age to 18\n",
    "can_drive = age >= 16 # True\n",
    "print(can_drive)"
   ]
  },
  {
   "cell_type": "code",
   "execution_count": 64,
   "metadata": {},
   "outputs": [
    {
     "name": "stdout",
     "output_type": "stream",
     "text": [
      "True False\n"
     ]
    }
   ],
   "source": [
    "ans = 'a'\n",
    "valid_input = ans == 'a' or ans == 'b' or ans == 'c'  # Chose a b or c\n",
    "invalid_input = ans != 'a' and ans != 'b' and ans != 'c'  # Did not choose a b or c\n",
    "print(valid_input,invalid_input) "
   ]
  },
  {
   "cell_type": "markdown",
   "metadata": {},
   "source": [
    "### The in Boolean operator"
   ]
  },
  {
   "cell_type": "code",
   "execution_count": 5,
   "metadata": {},
   "outputs": [
    {
     "data": {
      "text/plain": [
       "True"
      ]
     },
     "execution_count": 5,
     "metadata": {},
     "output_type": "execute_result"
    }
   ],
   "source": [
    "# on a string it returns True if the left string is a substring of the right string\n",
    "\"Wed\" in \"Tuesday,Wednesday,Thursday\""
   ]
  },
  {
   "cell_type": "code",
   "execution_count": 6,
   "metadata": {},
   "outputs": [
    {
     "data": {
      "text/plain": [
       "False"
      ]
     },
     "execution_count": 6,
     "metadata": {},
     "output_type": "execute_result"
    }
   ],
   "source": [
    "# on a list it returns True if the entire left value is an element in the right list\n",
    "\"Wed\" in [\"Tuesday\",\"Wednesday\",\"Thursday\"]"
   ]
  },
  {
   "cell_type": "markdown",
   "metadata": {},
   "source": [
    "## Try and Except"
   ]
  },
  {
   "cell_type": "code",
   "execution_count": null,
   "metadata": {},
   "outputs": [],
   "source": [
    "try:\n",
    "    num = int(input(\"Enter an integer:\"))\n",
    "    print(\"You entered\", num)\n",
    "except:\n",
    "    print(\"You did not enter an integer!\")"
   ]
  },
  {
   "cell_type": "markdown",
   "metadata": {},
   "source": [
    "## Iteration\n",
    "### definite while loop"
   ]
  },
  {
   "cell_type": "code",
   "execution_count": 6,
   "metadata": {},
   "outputs": [
    {
     "name": "stdout",
     "output_type": "stream",
     "text": [
      "5,4,3,2,1,Blastoff!\n"
     ]
    }
   ],
   "source": [
    "n = 5\n",
    "while n > 0:\n",
    "    print(n, end=\",\")\n",
    "    n = n - 1\n",
    "print(\"Blastoff!\")"
   ]
  },
  {
   "cell_type": "markdown",
   "metadata": {},
   "source": [
    "###  indefinite while loops"
   ]
  },
  {
   "cell_type": "code",
   "execution_count": 33,
   "metadata": {},
   "outputs": [
    {
     "name": "stdout",
     "output_type": "stream",
     "text": [
      "Enter 'done' to exit:\n",
      "Enter 'done' to exit:no\n",
      "Enter 'done' to exit:done\n"
     ]
    }
   ],
   "source": [
    "while True:\n",
    "    ans = input(\"Enter 'done' to exit:\")\n",
    "    if ans == \"done\":\n",
    "        break"
   ]
  },
  {
   "cell_type": "code",
   "execution_count": null,
   "metadata": {},
   "outputs": [],
   "source": [
    "done = False\n",
    "while not done:\n",
    "    ans = input(\"Enter 'done' to exit:\")\n",
    "    if ans == \"done\":\n",
    "        done = True"
   ]
  },
  {
   "cell_type": "code",
   "execution_count": null,
   "metadata": {},
   "outputs": [],
   "source": [
    "while ans != \"done\":\n",
    "    ans = input(\"Enter 'done' to exit:\")"
   ]
  },
  {
   "cell_type": "markdown",
   "metadata": {},
   "source": [
    "## break and continue in loops"
   ]
  },
  {
   "cell_type": "code",
   "execution_count": 57,
   "metadata": {},
   "outputs": [
    {
     "name": "stdout",
     "output_type": "stream",
     "text": [
      "1 2 3 4 5 6 7 8 9 10 We are done!\n"
     ]
    }
   ],
   "source": [
    "# break jumps out of the loop\n",
    "j = 1\n",
    "while True:\n",
    "    print(j, end=' ')\n",
    "    j += 1\n",
    "    if j>10:\n",
    "        break\n",
    "print('We are done!')"
   ]
  },
  {
   "cell_type": "code",
   "execution_count": 34,
   "metadata": {},
   "outputs": [
    {
     "name": "stdout",
     "output_type": "stream",
     "text": [
      "2 4 6 8 10 We are done!\n"
     ]
    }
   ],
   "source": [
    "# continue jumps back to the top\n",
    "i = 1\n",
    "while i<10:\n",
    "    i +=1\n",
    "    if i%2 == 1:\n",
    "        continue\n",
    "    print(i,end=' ')\n",
    "print('We are done!')"
   ]
  },
  {
   "cell_type": "markdown",
   "metadata": {},
   "source": [
    "## for loops"
   ]
  },
  {
   "cell_type": "code",
   "execution_count": 7,
   "metadata": {},
   "outputs": [
    {
     "name": "stdout",
     "output_type": "stream",
     "text": [
      "0 1 2 3 4 "
     ]
    }
   ],
   "source": [
    "# Do something 5 times\n",
    "for i in range(5):\n",
    "    print(i,end=\" \")"
   ]
  },
  {
   "cell_type": "code",
   "execution_count": 1,
   "metadata": {},
   "outputs": [
    {
     "name": "stdout",
     "output_type": "stream",
     "text": [
      "1 3 5 7 9 "
     ]
    }
   ],
   "source": [
    "# Loop through the numbers 1 to 9\n",
    "for i in range(1,10,2):\n",
    "    print(i,end=\" \")"
   ]
  },
  {
   "cell_type": "code",
   "execution_count": 10,
   "metadata": {},
   "outputs": [
    {
     "name": "stdout",
     "output_type": "stream",
     "text": [
      "Sun Mon Tue Wed Thu Fri Sat "
     ]
    }
   ],
   "source": [
    "# Do something for every element of a list\n",
    "days = ['Sun','Mon','Tue','Wed','Thu','Fri','Sat']\n",
    "for item in days:\n",
    "    print(item, end=\" \")"
   ]
  },
  {
   "cell_type": "code",
   "execution_count": 11,
   "metadata": {},
   "outputs": [
    {
     "name": "stdout",
     "output_type": "stream",
     "text": [
      "The element at index 0 is Sun\n",
      "The element at index 1 is Mon\n",
      "The element at index 2 is Tue\n",
      "The element at index 3 is Wed\n",
      "The element at index 4 is Thu\n",
      "The element at index 5 is Fri\n",
      "The element at index 6 is Sat\n"
     ]
    }
   ],
   "source": [
    "# Do something for every index of a list\n",
    "for i in range(len(days)):\n",
    "    print(\"The element at index\",i,\"is\", days[i])"
   ]
  },
  {
   "cell_type": "code",
   "execution_count": 7,
   "metadata": {},
   "outputs": [
    {
     "name": "stdout",
     "output_type": "stream",
     "text": [
      "P,a,s,s,w,o,r,d,"
     ]
    }
   ],
   "source": [
    "# Do something for every character in a string\n",
    "for character in \"Password\":\n",
    "    print(character, end=\",\")"
   ]
  },
  {
   "cell_type": "markdown",
   "metadata": {},
   "source": [
    "## Random functions"
   ]
  },
  {
   "cell_type": "code",
   "execution_count": 38,
   "metadata": {},
   "outputs": [
    {
     "name": "stdout",
     "output_type": "stream",
     "text": [
      "4\n"
     ]
    }
   ],
   "source": [
    "import random\n",
    "die = random.randint(1,6) # random integer in the interval [1,6]\n",
    "print(die)"
   ]
  },
  {
   "cell_type": "code",
   "execution_count": 40,
   "metadata": {},
   "outputs": [
    {
     "name": "stdout",
     "output_type": "stream",
     "text": [
      "Heads\n"
     ]
    }
   ],
   "source": [
    "import random\n",
    "coin = [\"Heads\",\"Tails\"]\n",
    "coin_result = random.choice(coin)\n",
    "print(coin_result)"
   ]
  },
  {
   "cell_type": "code",
   "execution_count": 42,
   "metadata": {},
   "outputs": [
    {
     "name": "stdout",
     "output_type": "stream",
     "text": [
      "2.9431400107223915\n"
     ]
    }
   ],
   "source": [
    "import random\n",
    "unif = 10*random.random() # random floating point in the interval [0,1)\n",
    "print(unif)"
   ]
  },
  {
   "cell_type": "markdown",
   "metadata": {},
   "source": [
    "## String Methods"
   ]
  },
  {
   "cell_type": "code",
   "execution_count": 16,
   "metadata": {},
   "outputs": [
    {
     "name": "stdout",
     "output_type": "stream",
     "text": [
      "ABC abc Abc\n"
     ]
    }
   ],
   "source": [
    "# Case methods\n",
    "print(\"abc\".upper(),\"ABC\".lower(), \"ABC\".capitalize())"
   ]
  },
  {
   "cell_type": "code",
   "execution_count": 17,
   "metadata": {},
   "outputs": [
    {
     "name": "stdout",
     "output_type": "stream",
     "text": [
      "True True True\n"
     ]
    }
   ],
   "source": [
    "# Boolean string methods\n",
    "print(\"ABC\".isupper(),\"abc\".islower(),\"123\".isdigit())"
   ]
  },
  {
   "cell_type": "code",
   "execution_count": 18,
   "metadata": {},
   "outputs": [
    {
     "data": {
      "text/plain": [
       "'Line'"
      ]
     },
     "execution_count": 18,
     "metadata": {},
     "output_type": "execute_result"
    }
   ],
   "source": [
    "# strip \n",
    "\"\\n\\t Line \\t\\n\".strip() # strip all whitespace from both ends"
   ]
  },
  {
   "cell_type": "code",
   "execution_count": 19,
   "metadata": {},
   "outputs": [
    {
     "data": {
      "text/plain": [
       "'\\n\\t Line \\t'"
      ]
     },
     "execution_count": 19,
     "metadata": {},
     "output_type": "execute_result"
    }
   ],
   "source": [
    "# rstrip\n",
    "\"\\n\\t Line \\t\\n\".rstrip(\"\\n\") # strip \"\\n\" from right end"
   ]
  },
  {
   "cell_type": "code",
   "execution_count": 23,
   "metadata": {},
   "outputs": [
    {
     "data": {
      "text/plain": [
       "'100000000'"
      ]
     },
     "execution_count": 23,
     "metadata": {},
     "output_type": "execute_result"
    }
   ],
   "source": [
    "# replace\n",
    "\"100,000,000\".replace(\",\",\"\")"
   ]
  },
  {
   "cell_type": "code",
   "execution_count": 24,
   "metadata": {},
   "outputs": [
    {
     "name": "stdout",
     "output_type": "stream",
     "text": [
      "100.00\n"
     ]
    }
   ],
   "source": [
    "# remember string methods do not change strings \n",
    "# so use this syntax if that is what you want\n",
    "line = \"$100.00\"\n",
    "line = line.strip('$')\n",
    "print(line)"
   ]
  },
  {
   "cell_type": "code",
   "execution_count": 25,
   "metadata": {},
   "outputs": [
    {
     "data": {
      "text/plain": [
       "3"
      ]
     },
     "execution_count": 25,
     "metadata": {},
     "output_type": "execute_result"
    }
   ],
   "source": [
    "\"Spam, spam, spam, spam!\".count(\"spam\")"
   ]
  },
  {
   "cell_type": "code",
   "execution_count": 26,
   "metadata": {},
   "outputs": [
    {
     "data": {
      "text/plain": [
       "['Value', '1', 'Value', '2', 'Value', '3']"
      ]
     },
     "execution_count": 26,
     "metadata": {},
     "output_type": "execute_result"
    }
   ],
   "source": [
    "# split on whitespace; split returns a list\n",
    "\"Value 1\\tValue 2\\tValue 3\".split()"
   ]
  },
  {
   "cell_type": "code",
   "execution_count": 27,
   "metadata": {},
   "outputs": [
    {
     "data": {
      "text/plain": [
       "['Value 1', 'Value 2', 'Value 3']"
      ]
     },
     "execution_count": 27,
     "metadata": {},
     "output_type": "execute_result"
    }
   ],
   "source": [
    "# split on tabs\n",
    "\"Value 1\\tValue 2\\tValue 3\".split(\"\\t\")"
   ]
  },
  {
   "cell_type": "code",
   "execution_count": 29,
   "metadata": {},
   "outputs": [
    {
     "name": "stdout",
     "output_type": "stream",
     "text": [
      "Value 1 Value 2\n"
     ]
    }
   ],
   "source": [
    "# simultaneously assign split output to multiple variables\n",
    "v1, v2 = \"Value 1,Value 2\".split(\",\")\n",
    "print(v1,v2)"
   ]
  },
  {
   "cell_type": "markdown",
   "metadata": {},
   "source": [
    "## Files"
   ]
  },
  {
   "cell_type": "code",
   "execution_count": null,
   "metadata": {},
   "outputs": [],
   "source": [
    "# open for reading\n",
    "infile = open(\"input.txt\")\n",
    "# open for writing\n",
    "outfile = open(\"output.txt\",\"w\")\n",
    "# open for append\n",
    "outfile = open(\"output.txt\",\"a\")\n",
    "# writing output\n",
    "item = \"Bagel\"\n",
    "cals = 300\n",
    "line = item+\",\"+str(cals)+\"\\n\" \n",
    "outfile.write(line) # writes \"Bagel,300\\n\"\n",
    "# close the file\n",
    "outfile.close()\n",
    "\n",
    "# Loop over lines of a file printing them to the screen\n",
    "for line in infile:\n",
    "    line = line.strip()\n",
    "    print(line)"
   ]
  },
  {
   "cell_type": "markdown",
   "metadata": {},
   "source": [
    "# Lists, List methods, Functions on Lists"
   ]
  },
  {
   "cell_type": "code",
   "execution_count": 30,
   "metadata": {},
   "outputs": [
    {
     "name": "stdout",
     "output_type": "stream",
     "text": [
      "[0, 1, 2, 3, 4, 5, 6, 7, 8, 9]\n"
     ]
    }
   ],
   "source": [
    "# Seed and grow a list\n",
    "L = [] # empty list\n",
    "# add to the list using append\n",
    "for i in range(10):\n",
    "    L.append(i)\n",
    "print(L)"
   ]
  },
  {
   "cell_type": "code",
   "execution_count": 32,
   "metadata": {},
   "outputs": [
    {
     "name": "stdout",
     "output_type": "stream",
     "text": [
      "[9, 8, 7, 6, 5, 4, 3, 2, 1, 0]\n"
     ]
    }
   ],
   "source": [
    "# sort a list in place (i.e. without making a copy but changing the list)\n",
    "L.sort(reverse=True)\n",
    "print(L)"
   ]
  },
  {
   "cell_type": "code",
   "execution_count": null,
   "metadata": {},
   "outputs": [],
   "source": [
    "# remove and return a value at index (end by default)\n",
    "L.pop(0)\n",
    "print(L)"
   ]
  },
  {
   "cell_type": "code",
   "execution_count": 34,
   "metadata": {},
   "outputs": [
    {
     "name": "stdout",
     "output_type": "stream",
     "text": [
      "maximum: 9\n",
      "minimum: 0\n",
      "sum: 45\n",
      "average: 4.5\n",
      "sorted: [0, 1, 2, 3, 4, 5, 6, 7, 8, 9]\n"
     ]
    }
   ],
   "source": [
    "# max, min, sum, and sorted copy\n",
    "print(\"maximum:\",max(L))\n",
    "print(\"minimum:\",min(L))\n",
    "print(\"sum:\",sum(L))\n",
    "print(\"average:\",sum(L)/len(L))\n",
    "print(\"sorted:\",sorted(L)) "
   ]
  },
  {
   "cell_type": "markdown",
   "metadata": {},
   "source": [
    "# Indexing and slicing"
   ]
  },
  {
   "cell_type": "code",
   "execution_count": 36,
   "metadata": {},
   "outputs": [
    {
     "name": "stdout",
     "output_type": "stream",
     "text": [
      "p !\n"
     ]
    }
   ],
   "source": [
    "# Indexing works the same for strings and lists\n",
    "# The first index is 0 and -1 counts from the end\n",
    "s = \"Spam!\"\n",
    "print(s[1],s[-1])"
   ]
  },
  {
   "cell_type": "code",
   "execution_count": 37,
   "metadata": {},
   "outputs": [
    {
     "name": "stdout",
     "output_type": "stream",
     "text": [
      "pam\n",
      "pam!\n",
      "Spa\n"
     ]
    }
   ],
   "source": [
    "# Slicing a string returns a sub-string, the range is specified start:stop \n",
    "# The stop is not included in the result. If either is omitted the slice will\n",
    "# continue to the end.\n",
    "s = \"Spam!\"\n",
    "print(s[1:-1])\n",
    "print(s[1:])\n",
    "print(s[:3])"
   ]
  },
  {
   "cell_type": "markdown",
   "metadata": {},
   "source": [
    "## Dictionaries"
   ]
  },
  {
   "cell_type": "code",
   "execution_count": 1,
   "metadata": {},
   "outputs": [
    {
     "name": "stdout",
     "output_type": "stream",
     "text": [
      "{'Jan': 31, 'Feb': 28, 'Mar': 31}\n"
     ]
    }
   ],
   "source": [
    "# new empty dictionary\n",
    "D = {}\n",
    "# add key value pairs to dictionary\n",
    "D['Jan'] = 31\n",
    "D['Feb'] = 28\n",
    "D['Mar'] = 31\n",
    "print(D)"
   ]
  },
  {
   "cell_type": "code",
   "execution_count": 2,
   "metadata": {},
   "outputs": [
    {
     "name": "stdout",
     "output_type": "stream",
     "text": [
      "Jan removed with value 31\n",
      "{'Feb': 28, 'Mar': 31}\n"
     ]
    }
   ],
   "source": [
    "# remove a key value pair \n",
    "val = D.pop('Jan')\n",
    "print(\"Jan removed with value\",val)\n",
    "print(D)"
   ]
  },
  {
   "cell_type": "code",
   "execution_count": 3,
   "metadata": {},
   "outputs": [],
   "source": [
    "# check if the key is in the dictionary before you look up the value\n",
    "key = 'Dec'\n",
    "if key in D:\n",
    "    print(key,'has',D[key],'days')"
   ]
  },
  {
   "cell_type": "code",
   "execution_count": 4,
   "metadata": {},
   "outputs": [
    {
     "name": "stdout",
     "output_type": "stream",
     "text": [
      "Dec has ? days\n"
     ]
    }
   ],
   "source": [
    "# The get method is a way to look up values without checking\n",
    "# the second argument to get is a default value that is returned\n",
    "# if the key is not present\n",
    "print(key,'has',D.get(key,\"?\"),'days')"
   ]
  },
  {
   "cell_type": "code",
   "execution_count": 5,
   "metadata": {},
   "outputs": [
    {
     "name": "stdout",
     "output_type": "stream",
     "text": [
      "Feb has 28 days\n",
      "Mar has 31 days\n"
     ]
    }
   ],
   "source": [
    "# In a for loop a dictionary iterates over the keys\n",
    "for key in D:\n",
    "    print(key, \"has\", D[key], \"days\")"
   ]
  },
  {
   "cell_type": "code",
   "execution_count": 6,
   "metadata": {},
   "outputs": [
    {
     "name": "stdout",
     "output_type": "stream",
     "text": [
      "28 days\n",
      "31 days\n",
      "Total 59\n"
     ]
    }
   ],
   "source": [
    "# The dictionary method values returns a sequence of values\n",
    "# it works in for loops and with functions on sequences\n",
    "for value in D.values():\n",
    "    print(value, \"days\")\n",
    "print(\"Total\", sum(D.values()))"
   ]
  },
  {
   "cell_type": "code",
   "execution_count": 7,
   "metadata": {},
   "outputs": [
    {
     "name": "stdout",
     "output_type": "stream",
     "text": [
      "[(28, 'Feb'), (31, 'Mar')]\n"
     ]
    }
   ],
   "source": [
    "# The dictionary method items returns (key, value) tuples\n",
    "# Sort keys by value by creating a list of (value, key) tuples\n",
    "tuples = []\n",
    "for key,value in D.items():\n",
    "    t = (value,key)\n",
    "    tuples.append(t)\n",
    "tuples.sort()\n",
    "print(tuples)"
   ]
  },
  {
   "cell_type": "markdown",
   "metadata": {},
   "source": [
    "## Tuples"
   ]
  },
  {
   "cell_type": "code",
   "execution_count": null,
   "metadata": {},
   "outputs": [],
   "source": [
    "# Tuples are immutable lists, use them for values that should be kept together\n",
    "# The parentheses around the elements are usually optional\n",
    "t = 1,2,3\n",
    "t = (1,2,3) \n",
    "t[1] = 7 # you can't do this they are immutable"
   ]
  },
  {
   "cell_type": "code",
   "execution_count": 8,
   "metadata": {},
   "outputs": [
    {
     "name": "stdout",
     "output_type": "stream",
     "text": [
      "Eric IDLE\n",
      "IDLE Eric\n"
     ]
    }
   ],
   "source": [
    "# Parentheses are optional, tuples on the left of an assignment\n",
    "# unpack sequences like lists, tuples, and strings\n",
    "first, second = ['Eric','IDLE']\n",
    "print(first,second)\n",
    "# simultaneous assignment can be used to swap values\n",
    "first, second = second, first\n",
    "print(first,second)"
   ]
  },
  {
   "cell_type": "markdown",
   "metadata": {},
   "source": [
    "## Writing functions"
   ]
  },
  {
   "cell_type": "code",
   "execution_count": 41,
   "metadata": {},
   "outputs": [
    {
     "data": {
      "text/plain": [
       "8"
      ]
     },
     "execution_count": 41,
     "metadata": {},
     "output_type": "execute_result"
    }
   ],
   "source": [
    "# Function with parameters a and b returns a to the power of b\n",
    "def power(a,b):\n",
    "    c = a**b\n",
    "    return c  # a return statement specifies the return value\n",
    "\n",
    "power(2,3)"
   ]
  },
  {
   "cell_type": "code",
   "execution_count": 40,
   "metadata": {},
   "outputs": [
    {
     "name": "stdout",
     "output_type": "stream",
     "text": [
      "P-Y-T-H-O-N\n"
     ]
    }
   ],
   "source": [
    "# A main() function can be used as an outline of the program.\n",
    "# Don't forget the last line of your program is a call to main().\n",
    "def main():\n",
    "    my_string = \"Python\"\n",
    "    print_big(my_string)\n",
    "    \n",
    "def print_big(seq): \n",
    "    print(\"-\".join(seq.upper()))    # void functions don't need a return statement\n",
    "\n",
    "main()"
   ]
  },
  {
   "cell_type": "markdown",
   "metadata": {},
   "source": [
    "## Classes & OOP "
   ]
  },
  {
   "cell_type": "code",
   "execution_count": 14,
   "metadata": {},
   "outputs": [],
   "source": [
    "# A car class\n",
    "class Car:\n",
    "    # construct a new Car object with 0 miles\n",
    "    def __init__(self, body_type=\"Sedan\", color=\"White\"):\n",
    "        self.mileage = 0            # mileage driven\n",
    "        self.color = color          # color\n",
    "        self.body_type = body_type  # body type\n",
    "        print(color,body_type,\"constructed\")\n",
    "    # void method: drive a car     \n",
    "    def drive(self, miles):\n",
    "        # Drive the car miles miles\n",
    "        self.mileage = self.mileage + miles\n",
    "    # fruitful method: get the number of miles\n",
    "    def get_type(self):\n",
    "        return self.color + \" \" + self.body_type"
   ]
  },
  {
   "cell_type": "code",
   "execution_count": 6,
   "metadata": {},
   "outputs": [
    {
     "name": "stdout",
     "output_type": "stream",
     "text": [
      "White Sedan constructed\n",
      "Red Truck constructed\n",
      "White Sedan has 0 miles\n",
      "Red Truck has 0 miles\n"
     ]
    }
   ],
   "source": [
    "myCar1 = Car()\n",
    "myCar2 = Car(\"Truck\",\"Red\")\n",
    "\n",
    "print(myCar1.get_type(), \"has\", myCar1.mileage, \"miles\")\n",
    "print(myCar2.get_type(), \"has\", myCar2.mileage, \"miles\")"
   ]
  },
  {
   "cell_type": "code",
   "execution_count": 13,
   "metadata": {},
   "outputs": [
    {
     "name": "stdout",
     "output_type": "stream",
     "text": [
      "Red Sports constructed\n",
      "White Sports constructed\n",
      "Black Sports constructed\n",
      "Silver Sports constructed\n",
      "Gray Sports constructed\n",
      "Red Sports drove 14 miles\n",
      "White Sports drove 36 miles\n",
      "Black Sports drove 64 miles\n",
      "Silver Sports drove 91 miles\n",
      "Gray Sports drove 69 miles\n",
      "Silver Sports won!\n"
     ]
    }
   ],
   "source": [
    "# Car Racing Game\n",
    "import random\n",
    "\n",
    "# Create a list of cars\n",
    "cars = []\n",
    "for color in ['Red','White','Black','Silver','Gray']:\n",
    "    cars.append(Car('Sports',color))\n",
    "\n",
    "# Race cars by driving each car a random distance.\n",
    "for car in cars:\n",
    "    car.drive(random.randint(1,99))\n",
    "    print(car.get_type(), \"drove\", car.mileage, \"miles\")\n",
    "\n",
    "# Sort cars using list of tuples\n",
    "tuple_list = []\n",
    "for car in cars:\n",
    "    tuple_list.append((car.mileage,car))\n",
    "\n",
    "tuple_list.sort(reverse=True)\n",
    "winning_miles, winning_car = tuple_list[0]\n",
    "\n",
    "print(winning_car.get_type(), \"won!\")  # print the winner"
   ]
  },
  {
   "cell_type": "code",
   "execution_count": null,
   "metadata": {},
   "outputs": [],
   "source": []
  }
 ],
 "metadata": {
  "kernelspec": {
   "display_name": "Python 3 (ipykernel)",
   "language": "python",
   "name": "python3"
  },
  "language_info": {
   "codemirror_mode": {
    "name": "ipython",
    "version": 3
   },
   "file_extension": ".py",
   "mimetype": "text/x-python",
   "name": "python",
   "nbconvert_exporter": "python",
   "pygments_lexer": "ipython3",
   "version": "3.10.4"
  },
  "toc": {
   "base_numbering": 1,
   "nav_menu": {},
   "number_sections": true,
   "sideBar": false,
   "skip_h1_title": true,
   "title_cell": "Table of Contents",
   "title_sidebar": "Contents",
   "toc_cell": false,
   "toc_position": {},
   "toc_section_display": false,
   "toc_window_display": false
  }
 },
 "nbformat": 4,
 "nbformat_minor": 4
}
