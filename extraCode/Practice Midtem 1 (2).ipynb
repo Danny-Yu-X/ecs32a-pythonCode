{
 "cells": [
  {
   "cell_type": "code",
   "execution_count": null,
   "metadata": {},
   "outputs": [],
   "source": [
    "# Question 2: Min and MAx integer that will print Cool (5,20)\n",
    "\n",
    "if temp > 20:\n",
    "    if temp < 15:\n",
    "        print(\"Hot\")\n",
    "    else:\n",
    "        print(\"super hot\")\n",
    "else:\n",
    "    if temp < 5:\n",
    "        print(\"Cold\")\n",
    "    else:\n",
    "        print(\"Cool\")"
   ]
  },
  {
   "cell_type": "code",
   "execution_count": 3,
   "metadata": {},
   "outputs": [
    {
     "name": "stdout",
     "output_type": "stream",
     "text": [
      "I'm ok\n",
      "I'm ok\n",
      "I'm ok\n",
      "I'm ok\n",
      "I'm ok\n",
      "I'm ok\n",
      "I'm ok\n",
      "I'm ok\n",
      "I'm ok\n",
      "I'm ok\n",
      "I'm ok\n",
      "I'm ok\n",
      "I'm ok\n",
      "I'm ok\n",
      "I'm ok\n",
      "I'm ok\n",
      "I'm ok\n",
      "I'm ok\n",
      "I'm ok\n",
      "I'm ok\n",
      "I'm ok\n",
      "I'm ok\n",
      "I'm ok\n",
      "I'm ok\n",
      "I'm ok\n",
      "I'm ok\n",
      "I'm ok\n",
      "I'm ok\n",
      "I'm ok\n",
      "I'm ok\n",
      "I'm ok\n",
      "I'm ok\n",
      "I'm ok\n",
      "I'm ok\n",
      "I'm ok\n",
      "I'm ok\n",
      "I'm ok\n",
      "I'm ok\n",
      "I'm ok\n",
      "I'm ok\n",
      "I'm ok\n",
      "I'm ok\n",
      "I'm ok\n",
      "I'm ok\n",
      "I'm ok\n",
      "I'm ok\n",
      "I'm ok\n",
      "I'm ok\n",
      "I'm ok\n",
      "I'm ok\n",
      "I'm ok\n",
      "I'm ok\n",
      "I'm ok\n",
      "I'm ok\n",
      "I'm ok\n",
      "I'm ok\n",
      "I'm ok\n",
      "I'm ok\n",
      "I'm ok\n",
      "I'm ok\n",
      "I'm ok\n",
      "I'm ok\n",
      "I'm ok\n",
      "I'm ok\n",
      "I'm ok\n",
      "I'm ok\n",
      "I'm ok\n",
      "I'm ok\n",
      "I'm ok\n",
      "I'm ok\n",
      "I'm ok\n",
      "I'm ok\n",
      "I'm ok\n",
      "I'm ok\n",
      "I'm ok\n",
      "I'm ok\n",
      "I'm ok\n",
      "I'm ok\n",
      "I'm ok\n",
      "I'm ok\n",
      "I'm ok\n",
      "I'm ok\n",
      "I'm ok\n",
      "I'm ok\n",
      "I'm ok\n",
      "I'm ok\n",
      "I'm ok\n",
      "I'm ok\n",
      "I'm ok\n",
      "I'm ok\n",
      "I'm ok\n",
      "I'm ok\n",
      "I'm ok\n",
      "I'm ok\n",
      "I'm ok\n",
      "I'm ok\n",
      "I'm ok\n",
      "I'm ok\n",
      "I'm ok\n",
      "I'm ok\n",
      "I'm ok\n",
      "I'm ok\n",
      "I'm ok\n",
      "I'm ok\n",
      "I'm ok\n",
      "I'm ok\n",
      "I'm ok\n",
      "I'm ok\n",
      "I'm ok\n",
      "I'm ok\n",
      "I'm ok\n",
      "I'm ok\n",
      "I'm ok\n",
      "I'm ok\n",
      "I'm ok\n",
      "I'm ok\n",
      "I'm ok\n",
      "I'm ok\n",
      "I'm ok\n",
      "I'm ok\n",
      "I'm ok\n",
      "121\n"
     ]
    }
   ],
   "source": [
    "# Question 3: How mamy line printed (121)\n",
    "i = 0\n",
    "counter = 0 \n",
    "while i <= 10:\n",
    "    j = 0\n",
    "    while j <=10:\n",
    "        print(\"I'm ok\")\n",
    "        counter = counter + 1\n",
    "        j = j + 1 \n",
    "    i = i + 1\n",
    "        \n",
    "print(counter)"
   ]
  },
  {
   "cell_type": "code",
   "execution_count": 9,
   "metadata": {},
   "outputs": [
    {
     "name": "stdout",
     "output_type": "stream",
     "text": [
      "Enter total minutes: 121\n",
      "that is 2 hours and 1 minutes\n"
     ]
    }
   ],
   "source": [
    "# Question 5: Give number of Hours and minutes when given number of minutes\n",
    "total = int(input(\"Enter total minutes: \"))\n",
    "minutes = total%60\n",
    "hours = total//60\n",
    "print(\"that is\", hours, \"hours and\", minutes, \"minutes\")"
   ]
  },
  {
   "cell_type": "code",
   "execution_count": 10,
   "metadata": {},
   "outputs": [
    {
     "name": "stdout",
     "output_type": "stream",
     "text": [
      "First name:Pinn\n",
      "Last name:Prug\n",
      "Prug, Pinn\n"
     ]
    }
   ],
   "source": [
    "# Question 6: name formater\n",
    "first = input(\"First name:\")\n",
    "last = input(\"Last name:\")\n",
    "formatted = last + \", \" +first\n",
    "print(formatted)"
   ]
  },
  {
   "cell_type": "code",
   "execution_count": null,
   "metadata": {},
   "outputs": [],
   "source": [
    "# Question 7: Select 4 lines\n",
    "0 -> 1\n",
    "1 -> 2\n",
    "2 -> 3\n",
    "3 -> 4\n",
    "4 -> 5\n",
    "5 -> 1\n",
    "6 -> 1\n",
    "\n",
    "if weekday < 6:\n",
    "if weekday < 5:\n",
    "if weekday <= 5:\n",
    "weekday = 0\n",
    "weekday = 1\n",
    "weekday = 5\n",
    "else:\n",
    "weekday = weekday + 1"
   ]
  },
  {
   "cell_type": "code",
   "execution_count": 16,
   "metadata": {},
   "outputs": [
    {
     "name": "stdout",
     "output_type": "stream",
     "text": [
      "Enter 0-6: 6\n",
      "1\n"
     ]
    }
   ],
   "source": [
    "weekday = int(input(\"Enter 0-6: \"))\n",
    "\n",
    "if weekday < 5:\n",
    "    weekday = weekday + 1\n",
    "else:\n",
    "    weekday = 1\n",
    "    \n",
    "print(weekday)"
   ]
  },
  {
   "cell_type": "code",
   "execution_count": 19,
   "metadata": {},
   "outputs": [
    {
     "name": "stdout",
     "output_type": "stream",
     "text": [
      "I choose rock\n"
     ]
    }
   ],
   "source": [
    "# Question 9: random \n",
    "import random\n",
    "pick = random.choice(['rock','paper','scissors'])\n",
    "print(\"I choose\", pick)\n"
   ]
  },
  {
   "cell_type": "code",
   "execution_count": 20,
   "metadata": {},
   "outputs": [
    {
     "name": "stdout",
     "output_type": "stream",
     "text": [
      "Sales tax on pi day will be 3.1%\n"
     ]
    }
   ],
   "source": [
    "# Question 10: Fill in the blank => Sales tax on pi day will be 3.1%\n",
    "pi = 3.14159\n",
    "formatetd = \"{:.1f}%\".format(pi)\n",
    "print(\"Sales tax on pi day will be\", formatetd)"
   ]
  },
  {
   "cell_type": "code",
   "execution_count": 21,
   "metadata": {},
   "outputs": [
    {
     "name": "stdout",
     "output_type": "stream",
     "text": [
      "Enter width:10\n",
      "Enter height:10\n",
      "Area:  100.0\n",
      "Perimeter:  40.0\n"
     ]
    }
   ],
   "source": [
    "# Question 12: \n",
    "width = input(\"Enter width:\") \n",
    "height = input(\"Enter height:\")\n",
    "\n",
    "# Compute the area and perimeter of a rectangle\n",
    "area = float(height)*float(width)\n",
    "perimeter = 2*(float(height) + float(width))\n",
    "# The following instructions print out your results\n",
    "print(\"Area: \", area)\n",
    "print(\"Perimeter: \", perimeter)"
   ]
  },
  {
   "cell_type": "code",
   "execution_count": 23,
   "metadata": {},
   "outputs": [
    {
     "name": "stdout",
     "output_type": "stream",
     "text": [
      "Enter a positive single digit integer:10\n",
      "Enter a positive single digit integer:99\n",
      "Enter a positive single digit integer:44\n",
      "Enter a positive single digit integer:0\n",
      "Enter a positive single digit integer:1\n",
      "You chose 1\n"
     ]
    }
   ],
   "source": [
    "# Question 13: \n",
    "while True:\n",
    "    x = int(input(\"Enter a positive single digit integer:\"))\n",
    "    if x >= 1 and x <= 9 :\n",
    "        break\n",
    "print(\"You chose\", x)"
   ]
  },
  {
   "cell_type": "code",
   "execution_count": null,
   "metadata": {},
   "outputs": [],
   "source": [
    "# Question 14: \n",
    "if score < 10:\n",
    "       print(\"Poor\")\n",
    "elif score <= 70:\n",
    "       print(\"OK\")\n",
    "else:\n",
    "      print(\"Excellent\") "
   ]
  },
  {
   "cell_type": "code",
   "execution_count": 32,
   "metadata": {},
   "outputs": [
    {
     "name": "stdout",
     "output_type": "stream",
     "text": [
      "2\n",
      "4\n",
      "6\n",
      "8\n",
      "10\n",
      "12\n",
      "14\n",
      "16\n",
      "18\n",
      "20\n",
      "22\n",
      "24\n",
      "26\n",
      "28\n",
      "30\n",
      "32\n",
      "34\n",
      "36\n",
      "38\n",
      "40\n",
      "42\n",
      "44\n",
      "46\n",
      "48\n",
      "50\n",
      "52\n",
      "54\n",
      "56\n",
      "58\n",
      "60\n",
      "62\n",
      "64\n",
      "66\n",
      "68\n",
      "70\n",
      "72\n",
      "74\n",
      "76\n",
      "78\n",
      "80\n",
      "82\n",
      "84\n",
      "86\n",
      "88\n",
      "90\n",
      "92\n",
      "94\n",
      "96\n",
      "98\n",
      "100\n"
     ]
    }
   ],
   "source": [
    "n = 2\n",
    "while n <= 100 :\n",
    "   print(n)\n",
    "   n = n + 2"
   ]
  },
  {
   "cell_type": "code",
   "execution_count": 26,
   "metadata": {},
   "outputs": [
    {
     "name": "stdout",
     "output_type": "stream",
     "text": [
      "2\n",
      "4\n",
      "6\n",
      "8\n",
      "10\n",
      "12\n",
      "14\n",
      "16\n",
      "18\n",
      "20\n",
      "22\n",
      "24\n",
      "26\n",
      "28\n",
      "30\n",
      "32\n",
      "34\n",
      "36\n",
      "38\n",
      "40\n",
      "42\n",
      "44\n",
      "46\n",
      "48\n",
      "50\n",
      "52\n",
      "54\n",
      "56\n",
      "58\n",
      "60\n",
      "62\n",
      "64\n",
      "66\n",
      "68\n",
      "70\n",
      "72\n",
      "74\n",
      "76\n",
      "78\n",
      "80\n",
      "82\n",
      "84\n",
      "86\n",
      "88\n",
      "90\n",
      "92\n",
      "94\n",
      "96\n",
      "98\n",
      "100\n"
     ]
    }
   ],
   "source": [
    "# Question 15: \n",
    "n = 2\n",
    "while n <= 100 :\n",
    "   print(n)\n",
    "   n = n + 2"
   ]
  },
  {
   "cell_type": "code",
   "execution_count": 28,
   "metadata": {},
   "outputs": [
    {
     "name": "stdout",
     "output_type": "stream",
     "text": [
      "I'm thinking of a number between 1 and 100.\n",
      "Enter your guess:1\n",
      "Too low!\n",
      "Enter your guess:1\n",
      "Too low!\n",
      "Enter your guess:1\n",
      "Too low!\n",
      "Enter your guess:1\n",
      "Too low!\n",
      "Enter your guess:1\n",
      "Too low!\n",
      "Enter your guess:1\n",
      "Too low!\n",
      "Enter your guess:1\n",
      "Too low!\n",
      "Enter your guess:1\n",
      "Too low!\n",
      "Enter your guess:1\n",
      "Too low!\n",
      "Enter your guess:1\n",
      "Too many guesses!\n",
      "It took you 10 guesses\n"
     ]
    }
   ],
   "source": [
    "# Question 16: \n",
    "import random\n",
    "# Pick a secret number\n",
    "secret_num = random.randint(1,100)\n",
    "# Countthe number of guesses\n",
    "guesses = 0\n",
    "# Start the game\n",
    "print(\"I'm thinking of a number between 1 and 100.\")\n",
    "# Keep asking the user for a guess until they\n",
    "# finally guess correctly.\n",
    "while True:\n",
    "    guess = input(\"Enter your guess:\")\n",
    "    guess = int(guess)\n",
    "    guesses = guesses + 1\n",
    "    \n",
    "    if guesses == 10:\n",
    "        print(\"Too many guesses!\")\n",
    "        break\n",
    "        \n",
    "    # Give a hint\n",
    "    if guess == secret_num:\n",
    "        print(\"Correct!\")\n",
    "        break\n",
    "    elif guess > secret_num:\n",
    "        print(\"Too high!\")\n",
    "    else:\n",
    "        print(\"Too low!\")\n",
    "        \n",
    "        \n",
    "# Tell the user how many guesses it took\n",
    "print(\"It took you\", guesses, \"guesses\")\n"
   ]
  },
  {
   "cell_type": "code",
   "execution_count": null,
   "metadata": {},
   "outputs": [],
   "source": []
  }
 ],
 "metadata": {
  "kernelspec": {
   "display_name": "Python 3",
   "language": "python",
   "name": "python3"
  },
  "language_info": {
   "codemirror_mode": {
    "name": "ipython",
    "version": 3
   },
   "file_extension": ".py",
   "mimetype": "text/x-python",
   "name": "python",
   "nbconvert_exporter": "python",
   "pygments_lexer": "ipython3",
   "version": "3.7.6"
  }
 },
 "nbformat": 4,
 "nbformat_minor": 4
}
